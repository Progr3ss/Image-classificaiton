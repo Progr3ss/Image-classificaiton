{
 "cells": [
  {
   "cell_type": "markdown",
   "metadata": {
    "collapsed": true,
    "deletable": true,
    "editable": true
   },
   "source": [
    "# Image Classification\n",
    "In this project, you'll classify images from the [CIFAR-10 dataset](https://www.cs.toronto.edu/~kriz/cifar.html).  The dataset consists of airplanes, dogs, cats, and other objects. You'll preprocess the images, then train a convolutional neural network on all the samples. The images need to be normalized and the labels need to be one-hot encoded.  You'll get to apply what you learned and build a convolutional, max pooling, dropout, and fully connected layers.  At the end, you'll get to see your neural network's predictions on the sample images.\n",
    "## Get the Data\n",
    "Run the following cell to download the [CIFAR-10 dataset for python](https://www.cs.toronto.edu/~kriz/cifar-10-python.tar.gz)."
   ]
  },
  {
   "cell_type": "code",
   "execution_count": 1,
   "metadata": {
    "collapsed": false,
    "deletable": true,
    "editable": true
   },
   "outputs": [
    {
     "name": "stderr",
     "output_type": "stream",
     "text": [
      "CIFAR-10 Dataset: 171MB [00:39, 4.35MB/s]                              \n"
     ]
    },
    {
     "name": "stdout",
     "output_type": "stream",
     "text": [
      "All files found!\n"
     ]
    }
   ],
   "source": [
    "\"\"\"\n",
    "DON'T MODIFY ANYTHING IN THIS CELL THAT IS BELOW THIS LINE\n",
    "\"\"\"\n",
    "from urllib.request import urlretrieve\n",
    "from os.path import isfile, isdir\n",
    "from tqdm import tqdm\n",
    "import problem_unittests as tests\n",
    "import tarfile\n",
    "\n",
    "cifar10_dataset_folder_path = 'cifar-10-batches-py'\n",
    "\n",
    "class DLProgress(tqdm):\n",
    "    last_block = 0\n",
    "\n",
    "    def hook(self, block_num=1, block_size=1, total_size=None):\n",
    "        self.total = total_size\n",
    "        self.update((block_num - self.last_block) * block_size)\n",
    "        self.last_block = block_num\n",
    "\n",
    "if not isfile('cifar-10-python.tar.gz'):\n",
    "    with DLProgress(unit='B', unit_scale=True, miniters=1, desc='CIFAR-10 Dataset') as pbar:\n",
    "        urlretrieve(\n",
    "            'https://www.cs.toronto.edu/~kriz/cifar-10-python.tar.gz',\n",
    "            'cifar-10-python.tar.gz',\n",
    "            pbar.hook)\n",
    "\n",
    "if not isdir(cifar10_dataset_folder_path):\n",
    "    with tarfile.open('cifar-10-python.tar.gz') as tar:\n",
    "        tar.extractall()\n",
    "        tar.close()\n",
    "\n",
    "\n",
    "tests.test_folder_path(cifar10_dataset_folder_path)"
   ]
  },
  {
   "cell_type": "markdown",
   "metadata": {
    "deletable": true,
    "editable": true
   },
   "source": [
    "## Explore the Data\n",
    "The dataset is broken into batches to prevent your machine from running out of memory.  The CIFAR-10 dataset consists of 5 batches, named `data_batch_1`, `data_batch_2`, etc.. Each batch contains the labels and images that are one of the following:\n",
    "* airplane\n",
    "* automobile\n",
    "* bird\n",
    "* cat\n",
    "* deer\n",
    "* dog\n",
    "* frog\n",
    "* horse\n",
    "* ship\n",
    "* truck\n",
    "\n",
    "Understanding a dataset is part of making predictions on the data.  Play around with the code cell below by changing the `batch_id` and `sample_id`. The `batch_id` is the id for a batch (1-5). The `sample_id` is the id for a image and label pair in the batch.\n",
    "\n",
    "Ask yourself \"What are all possible labels?\", \"What is the range of values for the image data?\", \"Are the labels in order or random?\".  Answers to questions like these will help you preprocess the data and end up with better predictions."
   ]
  },
  {
   "cell_type": "code",
   "execution_count": 2,
   "metadata": {
    "collapsed": false,
    "deletable": true,
    "editable": true
   },
   "outputs": [
    {
     "name": "stdout",
     "output_type": "stream",
     "text": [
      "\n",
      "Stats of batch 1:\n",
      "Samples: 10000\n",
      "Label Counts: {0: 1005, 1: 974, 2: 1032, 3: 1016, 4: 999, 5: 937, 6: 1030, 7: 1001, 8: 1025, 9: 981}\n",
      "First 20 Labels: [6, 9, 9, 4, 1, 1, 2, 7, 8, 3, 4, 7, 7, 2, 9, 9, 9, 3, 2, 6]\n",
      "\n",
      "Example of Image 5:\n",
      "Image - Min Value: 0 Max Value: 252\n",
      "Image - Shape: (32, 32, 3)\n",
      "Label - Label Id: 1 Name: automobile\n"
     ]
    },
    {
     "data": {
      "image/png": "[encoded data removed]",
      "text/plain": [
       "<matplotlib.figure.Figure at 0x7f1ecc034a58>"
      ]
     },
     "metadata": {
      "image/png": {
       "height": 250,
       "width": 253
      }
     },
     "output_type": "display_data"
    }
   ],
   "source": [
    "%matplotlib inline\n",
    "%config InlineBackend.figure_format = 'retina'\n",
    "\n",
    "import helper\n",
    "import numpy as np\n",
    "\n",
    "# Explore the dataset\n",
    "batch_id = 1\n",
    "sample_id = 5\n",
    "helper.display_stats(cifar10_dataset_folder_path, batch_id, sample_id)"
   ]
  },
  {
   "cell_type": "markdown",
   "metadata": {
    "deletable": true,
    "editable": true
   },
   "source": [
    "## Implement Preprocess Functions\n",
    "### Normalize\n",
    "In the cell below, implement the `normalize` function to take in image data, `x`, and return it as a normalized Numpy array. The values should be in the range of 0 to 1, inclusive.  The return object should be the same shape as `x`."
   ]
  },
  {
   "cell_type": "code",
   "execution_count": 46,
   "metadata": {
    "collapsed": false,
    "deletable": true,
    "editable": true
   },
   "outputs": [
    {
     "name": "stdout",
     "output_type": "stream",
     "text": [
      "Tests Passed\n"
     ]
    }
   ],
   "source": [
    "def normalize(x):\n",
    "    \"\"\"\n",
    "    Normalize a list of sample image data in the range of 0 to 1\n",
    "    : x: List of image data.  The image shape is (32, 32, 3)\n",
    "    : return: Numpy array of normalize data\n",
    "    \"\"\"\n",
    "    # TODO: Implement Function\n",
    "    return np.array((x) / (255))\n",
    "\n",
    "\n",
    "\"\"\"\n",
    "DON'T MODIFY ANYTHING IN THIS CELL THAT IS BELOW THIS LINE\n",
    "\"\"\"\n",
    "tests.test_normalize(normalize)"
   ]
  },
  {
   "cell_type": "markdown",
   "metadata": {
    "deletable": true,
    "editable": true
   },
   "source": [
    "### One-hot encode\n",
    "Just like the previous code cell, you'll be implementing a function for preprocessing.  This time, you'll implement the `one_hot_encode` function. The input, `x`, are a list of labels.  Implement the function to return the list of labels as One-Hot encoded Numpy array.  The possible values for labels are 0 to 9. The one-hot encoding function should return the same encoding for each value between each call to `one_hot_encode`.  Make sure to save the map of encodings outside the function.\n",
    "\n",
    "Hint: Don't reinvent the wheel."
   ]
  },
  {
   "cell_type": "code",
   "execution_count": 47,
   "metadata": {
    "collapsed": false,
    "deletable": true,
    "editable": true
   },
   "outputs": [
    {
     "name": "stdout",
     "output_type": "stream",
     "text": [
      "Tests Passed\n"
     ]
    }
   ],
   "source": [
    "def one_hot_encode(x):\n",
    "    \"\"\"\n",
    "    One hot encode a list of sample labels. Return a one-hot encoded vector for each label.\n",
    "    : x: List of sample Labels\n",
    "    : return: Numpy array of one-hot encoded labels\n",
    "    \"\"\"\n",
    "    # TODO: Implement Function\n",
    "    return np.eye(10)[x]\n",
    "\n",
    "\"\"\"\n",
    "DON'T MODIFY ANYTHING IN THIS CELL THAT IS BELOW THIS LINE\n",
    "\"\"\"\n",
    "tests.test_one_hot_encode(one_hot_encode)"
   ]
  },
  {
   "cell_type": "markdown",
   "metadata": {
    "deletable": true,
    "editable": true
   },
   "source": [
    "### Randomize Data\n",
    "As you saw from exploring the data above, the order of the samples are randomized.  It doesn't hurt to randomize it again, but you don't need to for this dataset."
   ]
  },
  {
   "cell_type": "markdown",
   "metadata": {
    "deletable": true,
    "editable": true
   },
   "source": [
    "## Preprocess all the data and save it\n",
    "Running the code cell below will preprocess all the CIFAR-10 data and save it to file. The code below also uses 10% of the training data for validation."
   ]
  },
  {
   "cell_type": "code",
   "execution_count": 48,
   "metadata": {
    "collapsed": false,
    "deletable": true,
    "editable": true
   },
   "outputs": [],
   "source": [
    "\"\"\"\n",
    "DON'T MODIFY ANYTHING IN THIS CELL\n",
    "\"\"\"\n",
    "# Preprocess Training, Validation, and Testing Data\n",
    "helper.preprocess_and_save_data(cifar10_dataset_folder_path, normalize, one_hot_encode)"
   ]
  },
  {
   "cell_type": "markdown",
   "metadata": {
    "deletable": true,
    "editable": true
   },
   "source": [
    "# Check Point\n",
    "This is your first checkpoint.  If you ever decide to come back to this notebook or have to restart the notebook, you can start from here.  The preprocessed data has been saved to disk."
   ]
  },
  {
   "cell_type": "code",
   "execution_count": 49,
   "metadata": {
    "collapsed": true,
    "deletable": true,
    "editable": true
   },
   "outputs": [],
   "source": [
    "\"\"\"\n",
    "DON'T MODIFY ANYTHING IN THIS CELL\n",
    "\"\"\"\n",
    "import pickle\n",
    "import problem_unittests as tests\n",
    "import helper\n",
    "\n",
    "# Load the Preprocessed Validation data\n",
    "valid_features, valid_labels = pickle.load(open('preprocess_validation.p', mode='rb'))"
   ]
  },
  {
   "cell_type": "markdown",
   "metadata": {
    "deletable": true,
    "editable": true
   },
   "source": [
    "## Build the network\n",
    "For the neural network, you'll build each layer into a function.  Most of the code you've seen has been outside of functions. To test your code more thoroughly, we require that you put each layer in a function.  This allows us to give you better feedback and test for simple mistakes using our unittests before you submit your project.\n",
    "\n",
    ">**Note:** If you're finding it hard to dedicate enough time for this course each week, we've provided a small shortcut to this part of the project. In the next couple of problems, you'll have the option to use classes from the [TensorFlow Layers](https://www.tensorflow.org/api_docs/python/tf/layers) or [TensorFlow Layers (contrib)](https://www.tensorflow.org/api_guides/python/contrib.layers) packages to build each layer, except the layers you build in the \"Convolutional and Max Pooling Layer\" section.  TF Layers is similar to Keras's and TFLearn's abstraction to layers, so it's easy to pickup.\n",
    "\n",
    ">However, if you would like to get the most out of this course, try to solve all the problems _without_ using anything from the TF Layers packages. You **can** still use classes from other packages that happen to have the same name as ones you find in TF Layers! For example, instead of using the TF Layers version of the `conv2d` class, [tf.layers.conv2d](https://www.tensorflow.org/api_docs/python/tf/layers/conv2d), you would want to use the TF Neural Network version of `conv2d`, [tf.nn.conv2d](https://www.tensorflow.org/api_docs/python/tf/nn/conv2d). \n",
    "\n",
    "Let's begin!\n",
    "\n",
    "### Input\n",
    "The neural network needs to read the image data, one-hot encoded labels, and dropout keep probability. Implement the following functions\n",
    "* Implement `neural_net_image_input`\n",
    " * Return a [TF Placeholder](https://www.tensorflow.org/api_docs/python/tf/placeholder)\n",
    " * Set the shape using `image_shape` with batch size set to `None`.\n",
    " * Name the TensorFlow placeholder \"x\" using the TensorFlow `name` parameter in the [TF Placeholder](https://www.tensorflow.org/api_docs/python/tf/placeholder).\n",
    "* Implement `neural_net_label_input`\n",
    " * Return a [TF Placeholder](https://www.tensorflow.org/api_docs/python/tf/placeholder)\n",
    " * Set the shape using `n_classes` with batch size set to `None`.\n",
    " * Name the TensorFlow placeholder \"y\" using the TensorFlow `name` parameter in the [TF Placeholder](https://www.tensorflow.org/api_docs/python/tf/placeholder).\n",
    "* Implement `neural_net_keep_prob_input`\n",
    " * Return a [TF Placeholder](https://www.tensorflow.org/api_docs/python/tf/placeholder) for dropout keep probability.\n",
    " * Name the TensorFlow placeholder \"keep_prob\" using the TensorFlow `name` parameter in the [TF Placeholder](https://www.tensorflow.org/api_docs/python/tf/placeholder).\n",
    "\n",
    "These names will be used at the end of the project to load your saved model.\n",
    "\n",
    "Note: `None` for shapes in TensorFlow allow for a dynamic size."
   ]
  },
  {
   "cell_type": "code",
   "execution_count": 63,
   "metadata": {
    "collapsed": false,
    "deletable": true,
    "editable": true
   },
   "outputs": [
    {
     "name": "stdout",
     "output_type": "stream",
     "text": [
      "Image Input Tests Passed.\n",
      "Label Input Tests Passed.\n",
      "Keep Prob Tests Passed.\n"
     ]
    }
   ],
   "source": [
    "import tensorflow as tf\n",
    "\n",
    "def neural_net_image_input(image_shape):\n",
    "    \"\"\"\n",
    "    Return a Tensor for a bach of image input\n",
    "    : image_shape: Shape of the images\n",
    "    : return: Tensor for image input.\n",
    "    \"\"\"\n",
    "    # TODO: Implement Function\n",
    "    return tf.placeholder(tf.float32, shape = [None, 32, 32, 3], name = \"x\")\n",
    "\n",
    "\n",
    "def neural_net_label_input(n_classes):\n",
    "    \"\"\"\n",
    "    Return a Tensor for a batch of label input\n",
    "    : n_classes: Number of classes\n",
    "    : return: Tensor for label input.\n",
    "    \"\"\"\n",
    "    # TODO: Implement Function\n",
    "    return  tf.placeholder(tf.float32, shape = [None, n_classes], name = \"y\")\n",
    "\n",
    "\n",
    "def neural_net_keep_prob_input():\n",
    "    \"\"\"\n",
    "    Return a Tensor for keep probability\n",
    "    : return: Tensor for keep probability.\n",
    "    \"\"\"\n",
    "    # TODO: Implement Function\n",
    "    return tf.placeholder(tf.float32, name='keep_prob')\n",
    "\n",
    "\n",
    "\"\"\"\n",
    "DON'T MODIFY ANYTHING IN THIS CELL THAT IS BELOW THIS LINE\n",
    "\"\"\"\n",
    "tf.reset_default_graph()\n",
    "tests.test_nn_image_inputs(neural_net_image_input)\n",
    "tests.test_nn_label_inputs(neural_net_label_input)\n",
    "tests.test_nn_keep_prob_inputs(neural_net_keep_prob_input)"
   ]
  },
  {
   "cell_type": "markdown",
   "metadata": {
    "deletable": true,
    "editable": true
   },
   "source": [
    "### Convolution and Max Pooling Layer\n",
    "Convolution layers have a lot of success with images. For this code cell, you should implement the function `conv2d_maxpool` to apply convolution then max pooling:\n",
    "* Create the weight and bias using `conv_ksize`, `conv_num_outputs` and the shape of `x_tensor`.\n",
    "* Apply a convolution to `x_tensor` using weight and `conv_strides`.\n",
    " * We recommend you use same padding, but you're welcome to use any padding.\n",
    "* Add bias\n",
    "* Add a nonlinear activation to the convolution.\n",
    "* Apply Max Pooling using `pool_ksize` and `pool_strides`.\n",
    " * We recommend you use same padding, but you're welcome to use any padding.\n",
    "\n",
    "**Note:** You **can't** use [TensorFlow Layers](https://www.tensorflow.org/api_docs/python/tf/layers) or [TensorFlow Layers (contrib)](https://www.tensorflow.org/api_guides/python/contrib.layers) for **this** layer, but you can still use TensorFlow's [Neural Network](https://www.tensorflow.org/api_docs/python/tf/nn) package. You may still use the shortcut option for all the **other** layers."
   ]
  },
  {
   "cell_type": "code",
   "execution_count": 51,
   "metadata": {
    "collapsed": false,
    "deletable": true,
    "editable": true
   },
   "outputs": [
    {
     "name": "stdout",
     "output_type": "stream",
     "text": [
      "Tests Passed\n"
     ]
    }
   ],
   "source": [
    "def conv2d_maxpool(x_tensor, conv_num_outputs, conv_ksize, conv_strides, pool_ksize, pool_strides):\n",
    "    \"\"\"\n",
    "    Apply convolution then max pooling to x_tensor\n",
    "    :param x_tensor: TensorFlow Tensor\n",
    "    :param conv_num_outputs: Number of outputs for the convolutional layer\n",
    "    :param conv_ksize: kernal size 2-D Tuple for the convolutional layer\n",
    "    :param conv_strides: Stride 2-D Tuple for convolution\n",
    "    :param pool_ksize: kernal size 2-D Tuple for pool\n",
    "    :param pool_strides: Stride 2-D Tuple for pool\n",
    "    : return: A tensor that represents convolution and max pooling of x_tensor\n",
    "    \"\"\"\n",
    "\n",
    "\n",
    "    # TODO: Implement Function\n",
    "    in_depth = int(x_tensor.shape[3])\n",
    "    out_depth = conv_num_outputs\n",
    "    w_shape = [*conv_ksize, in_depth, out_depth]\n",
    "    w = tf.Variable(tf.random_normal(w_shape, stddev=0.1))\n",
    "    b = tf.Variable(tf.zeros(out_depth))\n",
    "    \n",
    "    conv_strides = [1, *conv_strides, 1]\n",
    "    x = tf.nn.conv2d(x_tensor, w, strides=conv_strides, padding='SAME')\n",
    "    \n",
    "    x = tf.nn.bias_add(x, b)\n",
    "    x = tf.nn.relu(x)\n",
    "    \n",
    "    pool_ksize = [1, *pool_ksize, 1]\n",
    "    pool_strides = [1, *pool_strides, 1]\n",
    "    x = tf.nn.max_pool(x, pool_ksize, pool_strides, padding='SAME')\n",
    "    return x\n",
    "\n",
    "\n",
    "\"\"\"\n",
    "DON'T MODIFY ANYTHING IN THIS CELL THAT IS BELOW THIS LINE\n",
    "\"\"\"\n",
    "tests.test_con_pool(conv2d_maxpool)"
   ]
  },
  {
   "cell_type": "markdown",
   "metadata": {
    "deletable": true,
    "editable": true
   },
   "source": [
    "### Flatten Layer\n",
    "Implement the `flatten` function to change the dimension of `x_tensor` from a 4-D tensor to a 2-D tensor.  The output should be the shape (*Batch Size*, *Flattened Image Size*). Shortcut option: you can use classes from the [TensorFlow Layers](https://www.tensorflow.org/api_docs/python/tf/layers) or [TensorFlow Layers (contrib)](https://www.tensorflow.org/api_guides/python/contrib.layers) packages for this layer. For more of a challenge, only use other TensorFlow packages."
   ]
  },
  {
   "cell_type": "code",
   "execution_count": 52,
   "metadata": {
    "collapsed": false,
    "deletable": true,
    "editable": true
   },
   "outputs": [
    {
     "name": "stdout",
     "output_type": "stream",
     "text": [
      "Tests Passed\n"
     ]
    }
   ],
   "source": [
    "def flatten(x_tensor):\n",
    "    \"\"\"\n",
    "    Flatten x_tensor to (Batch Size, Flattened Image Size)\n",
    "    : x_tensor: A tensor of size (Batch Size, ...), where ... are the image dimensions.\n",
    "    : return: A tensor of size (Batch Size, Flattened Image Size).\n",
    "    \"\"\"\n",
    "    # TODO: Implement Function\n",
    "    \n",
    "\n",
    "    # TODO: Implement Function\n",
    "    batch_size, *img_size = x_tensor.get_shape().as_list()\n",
    "    img_size = img_size[0] * img_size[1] * img_size[2]\n",
    "    return tf.reshape(x_tensor, [-1, img_size])\n",
    "\n",
    "\n",
    "\n",
    "\n",
    "\"\"\"\n",
    "DON'T MODIFY ANYTHING IN THIS CELL THAT IS BELOW THIS LINE\n",
    "\"\"\"\n",
    "tests.test_flatten(flatten)"
   ]
  },
  {
   "cell_type": "markdown",
   "metadata": {
    "deletable": true,
    "editable": true
   },
   "source": [
    "### Fully-Connected Layer\n",
    "Implement the `fully_conn` function to apply a fully connected layer to `x_tensor` with the shape (*Batch Size*, *num_outputs*). Shortcut option: you can use classes from the [TensorFlow Layers](https://www.tensorflow.org/api_docs/python/tf/layers) or [TensorFlow Layers (contrib)](https://www.tensorflow.org/api_guides/python/contrib.layers) packages for this layer. For more of a challenge, only use other TensorFlow packages."
   ]
  },
  {
   "cell_type": "code",
   "execution_count": 53,
   "metadata": {
    "collapsed": false,
    "deletable": true,
    "editable": true
   },
   "outputs": [
    {
     "name": "stdout",
     "output_type": "stream",
     "text": [
      "Tests Passed\n"
     ]
    }
   ],
   "source": [
    "def fully_conn(x_tensor, num_outputs):\n",
    "    \"\"\"\n",
    "    Apply a fully connected layer to x_tensor using weight and bias\n",
    "    : x_tensor: A 2-D tensor where the first dimension is batch size.\n",
    "    : num_outputs: The number of output that the new tensor should be.\n",
    "    : return: A 2-D tensor where the second dimension is num_outputs.\n",
    "    \"\"\"\n",
    "    # TODO: Implement Function\n",
    "    w_shape = (int(x_tensor.get_shape().as_list()[1]), num_outputs)\n",
    "    w = tf.Variable(tf.random_normal(w_shape, stddev=0.1))\n",
    "    b = tf.Variable(tf.zeros(num_outputs))\n",
    "    x = tf.add(tf.matmul(x_tensor, w), b)\n",
    "    x = tf.nn.relu(x)\n",
    "    return x\n",
    "\n",
    "\n",
    "\"\"\"\n",
    "DON'T MODIFY ANYTHING IN THIS CELL THAT IS BELOW THIS LINE\n",
    "\"\"\"\n",
    "tests.test_fully_conn(fully_conn)"
   ]
  },
  {
   "cell_type": "markdown",
   "metadata": {
    "deletable": true,
    "editable": true
   },
   "source": [
    "### Output Layer\n",
    "Implement the `output` function to apply a fully connected layer to `x_tensor` with the shape (*Batch Size*, *num_outputs*). Shortcut option: you can use classes from the [TensorFlow Layers](https://www.tensorflow.org/api_docs/python/tf/layers) or [TensorFlow Layers (contrib)](https://www.tensorflow.org/api_guides/python/contrib.layers) packages for this layer. For more of a challenge, only use other TensorFlow packages.\n",
    "\n",
    "**Note:** Activation, softmax, or cross entropy should **not** be applied to this."
   ]
  },
  {
   "cell_type": "code",
   "execution_count": 54,
   "metadata": {
    "collapsed": false,
    "deletable": true,
    "editable": true
   },
   "outputs": [
    {
     "name": "stdout",
     "output_type": "stream",
     "text": [
      "Tests Passed\n"
     ]
    }
   ],
   "source": [
    "def output(x_tensor, num_outputs):\n",
    "    \"\"\"\n",
    "    Apply a output layer to x_tensor using weight and bias\n",
    "    : x_tensor: A 2-D tensor where the first dimension is batch size.\n",
    "    : num_outputs: The number of output that the new tensor should be.\n",
    "    : return: A 2-D tensor where the second dimension is num_outputs.\n",
    "    \"\"\"\n",
    "    w_shape = [int(x_tensor.get_shape().as_list()[1]), num_outputs]\n",
    "    w = tf.Variable(tf.random_normal(w_shape, stddev=0.1))\n",
    "    b = tf.Variable(tf.zeros(num_outputs))\n",
    "    x = tf.add(tf.matmul(x_tensor, w), b)\n",
    "    return x\n",
    "\n",
    "\n",
    "\n",
    "\n",
    "\"\"\"\n",
    "DON'T MODIFY ANYTHING IN THIS CELL THAT IS BELOW THIS LINE\n",
    "\"\"\"\n",
    "tests.test_output(output)"
   ]
  },
  {
   "cell_type": "markdown",
   "metadata": {
    "deletable": true,
    "editable": true
   },
   "source": [
    "### Create Convolutional Model\n",
    "Implement the function `conv_net` to create a convolutional neural network model. The function takes in a batch of images, `x`, and outputs logits.  Use the layers you created above to create this model:\n",
    "\n",
    "* Apply 1, 2, or 3 Convolution and Max Pool layers\n",
    "* Apply a Flatten Layer\n",
    "* Apply 1, 2, or 3 Fully Connected Layers\n",
    "* Apply an Output Layer\n",
    "* Return the output\n",
    "* Apply [TensorFlow's Dropout](https://www.tensorflow.org/api_docs/python/tf/nn/dropout) to one or more layers in the model using `keep_prob`. "
   ]
  },
  {
   "cell_type": "code",
   "execution_count": 55,
   "metadata": {
    "collapsed": false,
    "deletable": true,
    "editable": true
   },
   "outputs": [
    {
     "name": "stdout",
     "output_type": "stream",
     "text": [
      "Neural Network Built!\n"
     ]
    }
   ],
   "source": [
    "\n",
    "def conv_net(x, keep_prob):\n",
    "    \"\"\"\n",
    "    Create a convolutional neural network model\n",
    "    : x: Placeholder tensor that holds image data.\n",
    "    : keep_prob: Placeholder tensor that hold dropout keep probability.\n",
    "    : return: Tensor that represents logits\n",
    "    \"\"\"\n",
    "    # TODO: Apply 1, 2, or 3 Convolution and Max Pool layers\n",
    "    #    Play around with different number of outputs, kernel size and stride\n",
    "    # Function Definition from Above:\n",
    "    #    conv2d_maxpool(x_tensor, conv_num_outputs, conv_ksize, conv_strides, pool_ksize, pool_strides)\n",
    "    x = conv2d_maxpool(x, 32, (3, 3), (1, 1), (2, 2), (2, 2))\n",
    "    x = conv2d_maxpool(x, 32, (3, 3), (2, 2), (2, 2), (2, 2))\n",
    "    x = conv2d_maxpool(x, 64, (3, 3), (1, 1), (2, 2), (2, 2))\n",
    "\n",
    "    # TODO: Apply a Flatten Layer\n",
    "    # Function Definition from Above:\n",
    "    #   flatten(x_tensor)\n",
    "    x = flatten(x)\n",
    "    \n",
    "\n",
    "    # TODO: Apply 1, 2, or 3 Fully Connected Layers\n",
    "    #    Play around with different number of outputs\n",
    "    # Function Definition from Above:\n",
    "    #   fully_conn(x_tensor, num_outputs)\n",
    "    x = fully_conn(x, 512)\n",
    "    x = tf.nn.dropout(x, keep_prob)\n",
    "    x = fully_conn(x, 128)\n",
    "    x = tf.nn.dropout(x, keep_prob)\n",
    "    \n",
    "    \n",
    "    # TODO: Apply an Output Layer\n",
    "    #    Set this to the number of classes\n",
    "    # Function Definition from Above:\n",
    "    #   output(x_tensor, num_outputs)\n",
    "    out = output(x, 10)\n",
    "    \n",
    "    \n",
    "    # TODO: return output\n",
    "    return out\n",
    "\n",
    "\n",
    "\"\"\"\n",
    "DON'T MODIFY ANYTHING IN THIS CELL THAT IS BELOW THIS LINE\n",
    "\"\"\"\n",
    "\n",
    "##############################\n",
    "## Build the Neural Network ##\n",
    "##############################\n",
    "\n",
    "# Remove previous weights, bias, inputs, etc..\n",
    "tf.reset_default_graph()\n",
    "\n",
    "# Inputs\n",
    "x = neural_net_image_input((32, 32, 3))\n",
    "y = neural_net_label_input(10)\n",
    "keep_prob = neural_net_keep_prob_input()\n",
    "\n",
    "# Model\n",
    "logits = conv_net(x, keep_prob)\n",
    "\n",
    "# Name logits Tensor, so that is can be loaded from disk after training\n",
    "logits = tf.identity(logits, name='logits')\n",
    "\n",
    "# Loss and Optimizer\n",
    "cost = tf.reduce_mean(tf.nn.softmax_cross_entropy_with_logits(logits=logits, labels=y))\n",
    "optimizer = tf.train.AdamOptimizer().minimize(cost)\n",
    "\n",
    "# Accuracy\n",
    "correct_pred = tf.equal(tf.argmax(logits, 1), tf.argmax(y, 1))\n",
    "accuracy = tf.reduce_mean(tf.cast(correct_pred, tf.float32), name='accuracy')\n",
    "\n",
    "tests.test_conv_net(conv_net)"
   ]
  },
  {
   "cell_type": "markdown",
   "metadata": {
    "deletable": true,
    "editable": true
   },
   "source": [
    "## Train the Neural Network\n",
    "### Single Optimization\n",
    "Implement the function `train_neural_network` to do a single optimization.  The optimization should use `optimizer` to optimize in `session` with a `feed_dict` of the following:\n",
    "* `x` for image input\n",
    "* `y` for labels\n",
    "* `keep_prob` for keep probability for dropout\n",
    "\n",
    "This function will be called for each batch, so `tf.global_variables_initializer()` has already been called.\n",
    "\n",
    "Note: Nothing needs to be returned. This function is only optimizing the neural network."
   ]
  },
  {
   "cell_type": "code",
   "execution_count": 56,
   "metadata": {
    "collapsed": false,
    "deletable": true,
    "editable": true
   },
   "outputs": [
    {
     "name": "stdout",
     "output_type": "stream",
     "text": [
      "Tests Passed\n"
     ]
    }
   ],
   "source": [
    "\n",
    "def train_neural_network(session, optimizer, keep_probability, feature_batch, label_batch):\n",
    "    \"\"\"\n",
    "    Optimize the session on a batch of images and labels\n",
    "    : session: Current TensorFlow session\n",
    "    : optimizer: TensorFlow optimizer function\n",
    "    : keep_probability: keep probability\n",
    "    : feature_batch: Batch of Numpy image data\n",
    "    : label_batch: Batch of Numpy label data\n",
    "    \"\"\"\n",
    "    # TODO: Implement Function\n",
    "    session.run(optimizer, feed_dict={\n",
    "        x: feature_batch,\n",
    "        y: label_batch,\n",
    "        keep_prob: keep_probability\n",
    "    })\n",
    "\n",
    "\n",
    "\"\"\"\n",
    "DON'T MODIFY ANYTHING IN THIS CELL THAT IS BELOW THIS LINE\n",
    "\"\"\"\n",
    "tests.test_train_nn(train_neural_network)"
   ]
  },
  {
   "cell_type": "markdown",
   "metadata": {
    "deletable": true,
    "editable": true
   },
   "source": [
    "### Show Stats\n",
    "Implement the function `print_stats` to print loss and validation accuracy.  Use the global variables `valid_features` and `valid_labels` to calculate validation accuracy.  Use a keep probability of `1.0` to calculate the loss and validation accuracy."
   ]
  },
  {
   "cell_type": "code",
   "execution_count": 57,
   "metadata": {
    "collapsed": false,
    "deletable": true,
    "editable": true
   },
   "outputs": [],
   "source": [
    "def print_stats(session, feature_batch, label_batch, cost, accuracy):\n",
    "    \"\"\"\n",
    "    Print information about loss and validation accuracy\n",
    "    : session: Current TensorFlow session\n",
    "    : feature_batch: Batch of Numpy image data\n",
    "    : label_batch: Batch of Numpy label data\n",
    "    : cost: TensorFlow cost function\n",
    "    : accuracy: TensorFlow accuracy function\n",
    "    \"\"\"\n",
    "    # TODO: Implement Function\n",
    "    loss = session.run(cost, feed_dict={\n",
    "        x: feature_batch,\n",
    "        y: label_batch,\n",
    "        keep_prob: 1.\n",
    "    })\n",
    "    \n",
    "    valid_accuracy = session.run(accuracy, feed_dict={\n",
    "        x: valid_features,\n",
    "        y: valid_labels,\n",
    "        keep_prob: 1.\n",
    "    })\n",
    "\n",
    "    print('Loss: {:>10.4f} Validation Accuracy: {:.6f}'.format(loss, valid_accuracy))"
   ]
  },
  {
   "cell_type": "markdown",
   "metadata": {
    "deletable": true,
    "editable": true
   },
   "source": [
    "### Hyperparameters\n",
    "Tune the following parameters:\n",
    "* Set `epochs` to the number of iterations until the network stops learning or start overfitting\n",
    "* Set `batch_size` to the highest number that your machine has memory for.  Most people set them to common sizes of memory:\n",
    " * 64\n",
    " * 128\n",
    " * 256\n",
    " * ...\n",
    "* Set `keep_probability` to the probability of keeping a node using dropout"
   ]
  },
  {
   "cell_type": "code",
   "execution_count": 58,
   "metadata": {
    "collapsed": true,
    "deletable": true,
    "editable": true
   },
   "outputs": [],
   "source": [
    "# TODO: Tune Parameters\n",
    "epochs = 100\n",
    "batch_size = 512\n",
    "keep_probability = 0.5"
   ]
  },
  {
   "cell_type": "markdown",
   "metadata": {
    "deletable": true,
    "editable": true
   },
   "source": [
    "### Train on a Single CIFAR-10 Batch\n",
    "Instead of training the neural network on all the CIFAR-10 batches of data, let's use a single batch. This should save time while you iterate on the model to get a better accuracy.  Once the final validation accuracy is 50% or greater, run the model on all the data in the next section."
   ]
  },
  {
   "cell_type": "code",
   "execution_count": 59,
   "metadata": {
    "collapsed": false,
    "deletable": true,
    "editable": true
   },
   "outputs": [
    {
     "name": "stdout",
     "output_type": "stream",
     "text": [
      "Checking the Training on a Single Batch...\n",
      "Epoch  1, CIFAR-10 Batch 1:  Loss:     2.2797 Validation Accuracy: 0.171600\n",
      "Epoch  2, CIFAR-10 Batch 1:  Loss:     2.1726 Validation Accuracy: 0.213000\n",
      "Epoch  3, CIFAR-10 Batch 1:  Loss:     2.0441 Validation Accuracy: 0.279800\n",
      "Epoch  4, CIFAR-10 Batch 1:  Loss:     1.9290 Validation Accuracy: 0.327200\n",
      "Epoch  5, CIFAR-10 Batch 1:  Loss:     1.8349 Validation Accuracy: 0.374600\n",
      "Epoch  6, CIFAR-10 Batch 1:  Loss:     1.7332 Validation Accuracy: 0.387000\n",
      "Epoch  7, CIFAR-10 Batch 1:  Loss:     1.6938 Validation Accuracy: 0.410200\n",
      "Epoch  8, CIFAR-10 Batch 1:  Loss:     1.6096 Validation Accuracy: 0.428600\n",
      "Epoch  9, CIFAR-10 Batch 1:  Loss:     1.5212 Validation Accuracy: 0.441200\n",
      "Epoch 10, CIFAR-10 Batch 1:  Loss:     1.4899 Validation Accuracy: 0.448800\n",
      "Epoch 11, CIFAR-10 Batch 1:  Loss:     1.4475 Validation Accuracy: 0.466000\n",
      "Epoch 12, CIFAR-10 Batch 1:  Loss:     1.3656 Validation Accuracy: 0.477400\n",
      "Epoch 13, CIFAR-10 Batch 1:  Loss:     1.3305 Validation Accuracy: 0.486200\n",
      "Epoch 14, CIFAR-10 Batch 1:  Loss:     1.2845 Validation Accuracy: 0.487400\n",
      "Epoch 15, CIFAR-10 Batch 1:  Loss:     1.2440 Validation Accuracy: 0.501200\n",
      "Epoch 16, CIFAR-10 Batch 1:  Loss:     1.2044 Validation Accuracy: 0.504600\n",
      "Epoch 17, CIFAR-10 Batch 1:  Loss:     1.2107 Validation Accuracy: 0.504200\n",
      "Epoch 18, CIFAR-10 Batch 1:  Loss:     1.1395 Validation Accuracy: 0.514000\n",
      "Epoch 19, CIFAR-10 Batch 1:  Loss:     1.1066 Validation Accuracy: 0.514200\n",
      "Epoch 20, CIFAR-10 Batch 1:  Loss:     1.0666 Validation Accuracy: 0.521600\n",
      "Epoch 21, CIFAR-10 Batch 1:  Loss:     1.0287 Validation Accuracy: 0.525600\n",
      "Epoch 22, CIFAR-10 Batch 1:  Loss:     0.9861 Validation Accuracy: 0.528400\n",
      "Epoch 23, CIFAR-10 Batch 1:  Loss:     0.9785 Validation Accuracy: 0.522800\n",
      "Epoch 24, CIFAR-10 Batch 1:  Loss:     0.9499 Validation Accuracy: 0.524600\n",
      "Epoch 25, CIFAR-10 Batch 1:  Loss:     0.9323 Validation Accuracy: 0.521600\n",
      "Epoch 26, CIFAR-10 Batch 1:  Loss:     0.8932 Validation Accuracy: 0.523800\n",
      "Epoch 27, CIFAR-10 Batch 1:  Loss:     0.8480 Validation Accuracy: 0.532200\n",
      "Epoch 28, CIFAR-10 Batch 1:  Loss:     0.8324 Validation Accuracy: 0.538600\n",
      "Epoch 29, CIFAR-10 Batch 1:  Loss:     0.8043 Validation Accuracy: 0.540600\n",
      "Epoch 30, CIFAR-10 Batch 1:  Loss:     0.7685 Validation Accuracy: 0.548000\n",
      "Epoch 31, CIFAR-10 Batch 1:  Loss:     0.7613 Validation Accuracy: 0.535000\n",
      "Epoch 32, CIFAR-10 Batch 1:  Loss:     0.7238 Validation Accuracy: 0.544800\n",
      "Epoch 33, CIFAR-10 Batch 1:  Loss:     0.7235 Validation Accuracy: 0.529800\n",
      "Epoch 34, CIFAR-10 Batch 1:  Loss:     0.6616 Validation Accuracy: 0.545200\n",
      "Epoch 35, CIFAR-10 Batch 1:  Loss:     0.6510 Validation Accuracy: 0.551000\n",
      "Epoch 36, CIFAR-10 Batch 1:  Loss:     0.6304 Validation Accuracy: 0.544400\n",
      "Epoch 37, CIFAR-10 Batch 1:  Loss:     0.6197 Validation Accuracy: 0.548200\n",
      "Epoch 38, CIFAR-10 Batch 1:  Loss:     0.6334 Validation Accuracy: 0.547600\n",
      "Epoch 39, CIFAR-10 Batch 1:  Loss:     0.5685 Validation Accuracy: 0.548800\n",
      "Epoch 40, CIFAR-10 Batch 1:  Loss:     0.5691 Validation Accuracy: 0.550400\n",
      "Epoch 41, CIFAR-10 Batch 1:  Loss:     0.5264 Validation Accuracy: 0.552000\n",
      "Epoch 42, CIFAR-10 Batch 1:  Loss:     0.5135 Validation Accuracy: 0.554200\n",
      "Epoch 43, CIFAR-10 Batch 1:  Loss:     0.4959 Validation Accuracy: 0.555200\n",
      "Epoch 44, CIFAR-10 Batch 1:  Loss:     0.4651 Validation Accuracy: 0.555200\n",
      "Epoch 45, CIFAR-10 Batch 1:  Loss:     0.5612 Validation Accuracy: 0.530600\n",
      "Epoch 46, CIFAR-10 Batch 1:  Loss:     0.4284 Validation Accuracy: 0.560000\n",
      "Epoch 47, CIFAR-10 Batch 1:  Loss:     0.4052 Validation Accuracy: 0.557000\n",
      "Epoch 48, CIFAR-10 Batch 1:  Loss:     0.3836 Validation Accuracy: 0.559200\n",
      "Epoch 49, CIFAR-10 Batch 1:  Loss:     0.3840 Validation Accuracy: 0.557400\n",
      "Epoch 50, CIFAR-10 Batch 1:  Loss:     0.3526 Validation Accuracy: 0.558000\n",
      "Epoch 51, CIFAR-10 Batch 1:  Loss:     0.3234 Validation Accuracy: 0.559400\n",
      "Epoch 52, CIFAR-10 Batch 1:  Loss:     0.3297 Validation Accuracy: 0.557800\n",
      "Epoch 53, CIFAR-10 Batch 1:  Loss:     0.2920 Validation Accuracy: 0.561600\n",
      "Epoch 54, CIFAR-10 Batch 1:  Loss:     0.3339 Validation Accuracy: 0.546400\n",
      "Epoch 55, CIFAR-10 Batch 1:  Loss:     0.2832 Validation Accuracy: 0.550800\n",
      "Epoch 56, CIFAR-10 Batch 1:  Loss:     0.2794 Validation Accuracy: 0.552800\n",
      "Epoch 57, CIFAR-10 Batch 1:  Loss:     0.2706 Validation Accuracy: 0.552600\n",
      "Epoch 58, CIFAR-10 Batch 1:  Loss:     0.2450 Validation Accuracy: 0.546400\n",
      "Epoch 59, CIFAR-10 Batch 1:  Loss:     0.2417 Validation Accuracy: 0.551000\n",
      "Epoch 60, CIFAR-10 Batch 1:  Loss:     0.2634 Validation Accuracy: 0.545600\n",
      "Epoch 61, CIFAR-10 Batch 1:  Loss:     0.2511 Validation Accuracy: 0.541200\n",
      "Epoch 62, CIFAR-10 Batch 1:  Loss:     0.2702 Validation Accuracy: 0.528000\n",
      "Epoch 63, CIFAR-10 Batch 1:  Loss:     0.3668 Validation Accuracy: 0.504400\n",
      "Epoch 64, CIFAR-10 Batch 1:  Loss:     0.2864 Validation Accuracy: 0.515400\n",
      "Epoch 65, CIFAR-10 Batch 1:  Loss:     0.2158 Validation Accuracy: 0.540800\n",
      "Epoch 66, CIFAR-10 Batch 1:  Loss:     0.2197 Validation Accuracy: 0.526600\n",
      "Epoch 67, CIFAR-10 Batch 1:  Loss:     0.2156 Validation Accuracy: 0.524400\n",
      "Epoch 68, CIFAR-10 Batch 1:  Loss:     0.1909 Validation Accuracy: 0.544400\n",
      "Epoch 69, CIFAR-10 Batch 1:  Loss:     0.2149 Validation Accuracy: 0.524000\n",
      "Epoch 70, CIFAR-10 Batch 1:  Loss:     0.1935 Validation Accuracy: 0.535400\n",
      "Epoch 71, CIFAR-10 Batch 1:  Loss:     0.1728 Validation Accuracy: 0.535200\n",
      "Epoch 72, CIFAR-10 Batch 1:  Loss:     0.1887 Validation Accuracy: 0.543600\n",
      "Epoch 73, CIFAR-10 Batch 1:  Loss:     0.2375 Validation Accuracy: 0.529200\n",
      "Epoch 74, CIFAR-10 Batch 1:  Loss:     0.1578 Validation Accuracy: 0.558400\n",
      "Epoch 75, CIFAR-10 Batch 1:  Loss:     0.1265 Validation Accuracy: 0.554800\n",
      "Epoch 76, CIFAR-10 Batch 1:  Loss:     0.1413 Validation Accuracy: 0.538400\n",
      "Epoch 77, CIFAR-10 Batch 1:  Loss:     0.1276 Validation Accuracy: 0.547000\n",
      "Epoch 78, CIFAR-10 Batch 1:  Loss:     0.1139 Validation Accuracy: 0.544400\n",
      "Epoch 79, CIFAR-10 Batch 1:  Loss:     0.1108 Validation Accuracy: 0.554400\n",
      "Epoch 80, CIFAR-10 Batch 1:  Loss:     0.1434 Validation Accuracy: 0.532400\n",
      "Epoch 81, CIFAR-10 Batch 1:  Loss:     0.1184 Validation Accuracy: 0.549800\n",
      "Epoch 82, CIFAR-10 Batch 1:  Loss:     0.1109 Validation Accuracy: 0.548800\n",
      "Epoch 83, CIFAR-10 Batch 1:  Loss:     0.1084 Validation Accuracy: 0.545600\n",
      "Epoch 84, CIFAR-10 Batch 1:  Loss:     0.0995 Validation Accuracy: 0.551600\n",
      "Epoch 85, CIFAR-10 Batch 1:  Loss:     0.0934 Validation Accuracy: 0.541800\n",
      "Epoch 86, CIFAR-10 Batch 1:  Loss:     0.1018 Validation Accuracy: 0.542000\n",
      "Epoch 87, CIFAR-10 Batch 1:  Loss:     0.0928 Validation Accuracy: 0.534200\n",
      "Epoch 88, CIFAR-10 Batch 1:  Loss:     0.1253 Validation Accuracy: 0.507800\n",
      "Epoch 89, CIFAR-10 Batch 1:  Loss:     0.1585 Validation Accuracy: 0.503200\n",
      "Epoch 90, CIFAR-10 Batch 1:  Loss:     0.0937 Validation Accuracy: 0.541400\n",
      "Epoch 91, CIFAR-10 Batch 1:  Loss:     0.0794 Validation Accuracy: 0.554200\n",
      "Epoch 92, CIFAR-10 Batch 1:  Loss:     0.0474 Validation Accuracy: 0.553800\n",
      "Epoch 93, CIFAR-10 Batch 1:  Loss:     0.0568 Validation Accuracy: 0.545600\n",
      "Epoch 94, CIFAR-10 Batch 1:  Loss:     0.0510 Validation Accuracy: 0.553600\n",
      "Epoch 95, CIFAR-10 Batch 1:  Loss:     0.0397 Validation Accuracy: 0.553600\n",
      "Epoch 96, CIFAR-10 Batch 1:  Loss:     0.0420 Validation Accuracy: 0.552400\n",
      "Epoch 97, CIFAR-10 Batch 1:  Loss:     0.0342 Validation Accuracy: 0.548400\n",
      "Epoch 98, CIFAR-10 Batch 1:  Loss:     0.0385 Validation Accuracy: 0.550600\n",
      "Epoch 99, CIFAR-10 Batch 1:  Loss:     0.0402 Validation Accuracy: 0.546800\n",
      "Epoch 100, CIFAR-10 Batch 1:  Loss:     0.0360 Validation Accuracy: 0.546200\n"
     ]
    }
   ],
   "source": [
    "\"\"\"\n",
    "DON'T MODIFY ANYTHING IN THIS CELL\n",
    "\"\"\"\n",
    "print('Checking the Training on a Single Batch...')\n",
    "with tf.Session() as sess:\n",
    "    # Initializing the variables\n",
    "    sess.run(tf.global_variables_initializer())\n",
    "    \n",
    "    # Training cycle\n",
    "    for epoch in range(epochs):\n",
    "        batch_i = 1\n",
    "        for batch_features, batch_labels in helper.load_preprocess_training_batch(batch_i, batch_size):\n",
    "            train_neural_network(sess, optimizer, keep_probability, batch_features, batch_labels)\n",
    "        print('Epoch {:>2}, CIFAR-10 Batch {}:  '.format(epoch + 1, batch_i), end='')\n",
    "        print_stats(sess, batch_features, batch_labels, cost, accuracy)"
   ]
  },
  {
   "cell_type": "markdown",
   "metadata": {
    "deletable": true,
    "editable": true
   },
   "source": [
    "### Fully Train the Model\n",
    "Now that you got a good accuracy with a single CIFAR-10 batch, try it with all five batches."
   ]
  },
  {
   "cell_type": "code",
   "execution_count": 60,
   "metadata": {
    "collapsed": false,
    "deletable": true,
    "editable": true
   },
   "outputs": [
    {
     "name": "stdout",
     "output_type": "stream",
     "text": [
      "Training...\n",
      "Epoch  1, CIFAR-10 Batch 1:  Loss:     2.2474 Validation Accuracy: 0.146000\n",
      "Epoch  1, CIFAR-10 Batch 2:  Loss:     2.0135 Validation Accuracy: 0.245200\n",
      "Epoch  1, CIFAR-10 Batch 3:  Loss:     1.8770 Validation Accuracy: 0.299000\n",
      "Epoch  1, CIFAR-10 Batch 4:  Loss:     1.7585 Validation Accuracy: 0.342800\n",
      "Epoch  1, CIFAR-10 Batch 5:  Loss:     1.7433 Validation Accuracy: 0.374800\n",
      "Epoch  2, CIFAR-10 Batch 1:  Loss:     1.6758 Validation Accuracy: 0.408600\n",
      "Epoch  2, CIFAR-10 Batch 2:  Loss:     1.6277 Validation Accuracy: 0.420600\n",
      "Epoch  2, CIFAR-10 Batch 3:  Loss:     1.4350 Validation Accuracy: 0.438400\n",
      "Epoch  2, CIFAR-10 Batch 4:  Loss:     1.4530 Validation Accuracy: 0.447400\n",
      "Epoch  2, CIFAR-10 Batch 5:  Loss:     1.4896 Validation Accuracy: 0.454000\n",
      "Epoch  3, CIFAR-10 Batch 1:  Loss:     1.4852 Validation Accuracy: 0.464600\n",
      "Epoch  3, CIFAR-10 Batch 2:  Loss:     1.4372 Validation Accuracy: 0.470000\n",
      "Epoch  3, CIFAR-10 Batch 3:  Loss:     1.2368 Validation Accuracy: 0.482000\n",
      "Epoch  3, CIFAR-10 Batch 4:  Loss:     1.2887 Validation Accuracy: 0.486200\n",
      "Epoch  3, CIFAR-10 Batch 5:  Loss:     1.3286 Validation Accuracy: 0.496800\n",
      "Epoch  4, CIFAR-10 Batch 1:  Loss:     1.3738 Validation Accuracy: 0.504000\n",
      "Epoch  4, CIFAR-10 Batch 2:  Loss:     1.3115 Validation Accuracy: 0.499400\n",
      "Epoch  4, CIFAR-10 Batch 3:  Loss:     1.1358 Validation Accuracy: 0.512800\n",
      "Epoch  4, CIFAR-10 Batch 4:  Loss:     1.1941 Validation Accuracy: 0.515200\n",
      "Epoch  4, CIFAR-10 Batch 5:  Loss:     1.2263 Validation Accuracy: 0.518000\n",
      "Epoch  5, CIFAR-10 Batch 1:  Loss:     1.2581 Validation Accuracy: 0.533200\n",
      "Epoch  5, CIFAR-10 Batch 2:  Loss:     1.2230 Validation Accuracy: 0.530600\n",
      "Epoch  5, CIFAR-10 Batch 3:  Loss:     1.0791 Validation Accuracy: 0.529800\n",
      "Epoch  5, CIFAR-10 Batch 4:  Loss:     1.1216 Validation Accuracy: 0.543400\n",
      "Epoch  5, CIFAR-10 Batch 5:  Loss:     1.1679 Validation Accuracy: 0.522600\n",
      "Epoch  6, CIFAR-10 Batch 1:  Loss:     1.1680 Validation Accuracy: 0.546400\n",
      "Epoch  6, CIFAR-10 Batch 2:  Loss:     1.1503 Validation Accuracy: 0.556600\n",
      "Epoch  6, CIFAR-10 Batch 3:  Loss:     0.9990 Validation Accuracy: 0.559200\n",
      "Epoch  6, CIFAR-10 Batch 4:  Loss:     1.0443 Validation Accuracy: 0.562200\n",
      "Epoch  6, CIFAR-10 Batch 5:  Loss:     1.0611 Validation Accuracy: 0.559200\n",
      "Epoch  7, CIFAR-10 Batch 1:  Loss:     1.1085 Validation Accuracy: 0.562600\n",
      "Epoch  7, CIFAR-10 Batch 2:  Loss:     1.0863 Validation Accuracy: 0.576000\n",
      "Epoch  7, CIFAR-10 Batch 3:  Loss:     0.9601 Validation Accuracy: 0.568800\n",
      "Epoch  7, CIFAR-10 Batch 4:  Loss:     0.9912 Validation Accuracy: 0.580600\n",
      "Epoch  7, CIFAR-10 Batch 5:  Loss:     1.0315 Validation Accuracy: 0.577000\n",
      "Epoch  8, CIFAR-10 Batch 1:  Loss:     1.0539 Validation Accuracy: 0.575800\n",
      "Epoch  8, CIFAR-10 Batch 2:  Loss:     1.0684 Validation Accuracy: 0.578800\n",
      "Epoch  8, CIFAR-10 Batch 3:  Loss:     0.9267 Validation Accuracy: 0.576600\n",
      "Epoch  8, CIFAR-10 Batch 4:  Loss:     0.9172 Validation Accuracy: 0.594400\n",
      "Epoch  8, CIFAR-10 Batch 5:  Loss:     0.9450 Validation Accuracy: 0.594400\n",
      "Epoch  9, CIFAR-10 Batch 1:  Loss:     0.9929 Validation Accuracy: 0.589400\n",
      "Epoch  9, CIFAR-10 Batch 2:  Loss:     1.0137 Validation Accuracy: 0.583400\n",
      "Epoch  9, CIFAR-10 Batch 3:  Loss:     0.9063 Validation Accuracy: 0.577800\n",
      "Epoch  9, CIFAR-10 Batch 4:  Loss:     0.8886 Validation Accuracy: 0.601200\n",
      "Epoch  9, CIFAR-10 Batch 5:  Loss:     0.9088 Validation Accuracy: 0.599600\n",
      "Epoch 10, CIFAR-10 Batch 1:  Loss:     0.9608 Validation Accuracy: 0.598400\n",
      "Epoch 10, CIFAR-10 Batch 2:  Loss:     0.9628 Validation Accuracy: 0.599600\n",
      "Epoch 10, CIFAR-10 Batch 3:  Loss:     0.8274 Validation Accuracy: 0.611000\n",
      "Epoch 10, CIFAR-10 Batch 4:  Loss:     0.8291 Validation Accuracy: 0.616800\n",
      "Epoch 10, CIFAR-10 Batch 5:  Loss:     0.8601 Validation Accuracy: 0.617800\n",
      "Epoch 11, CIFAR-10 Batch 1:  Loss:     0.9286 Validation Accuracy: 0.613400\n",
      "Epoch 11, CIFAR-10 Batch 2:  Loss:     0.9570 Validation Accuracy: 0.595800\n",
      "Epoch 11, CIFAR-10 Batch 3:  Loss:     0.8079 Validation Accuracy: 0.614400\n",
      "Epoch 11, CIFAR-10 Batch 4:  Loss:     0.7955 Validation Accuracy: 0.624800\n",
      "Epoch 11, CIFAR-10 Batch 5:  Loss:     0.8167 Validation Accuracy: 0.616400\n",
      "Epoch 12, CIFAR-10 Batch 1:  Loss:     0.8755 Validation Accuracy: 0.631400\n",
      "Epoch 12, CIFAR-10 Batch 2:  Loss:     0.8904 Validation Accuracy: 0.623200\n",
      "Epoch 12, CIFAR-10 Batch 3:  Loss:     0.7877 Validation Accuracy: 0.626200\n",
      "Epoch 12, CIFAR-10 Batch 4:  Loss:     0.7813 Validation Accuracy: 0.629000\n",
      "Epoch 12, CIFAR-10 Batch 5:  Loss:     0.7960 Validation Accuracy: 0.627400\n",
      "Epoch 13, CIFAR-10 Batch 1:  Loss:     0.8565 Validation Accuracy: 0.631400\n",
      "Epoch 13, CIFAR-10 Batch 2:  Loss:     0.8747 Validation Accuracy: 0.616400\n",
      "Epoch 13, CIFAR-10 Batch 3:  Loss:     0.7565 Validation Accuracy: 0.628000\n",
      "Epoch 13, CIFAR-10 Batch 4:  Loss:     0.7497 Validation Accuracy: 0.632000\n",
      "Epoch 13, CIFAR-10 Batch 5:  Loss:     0.7639 Validation Accuracy: 0.635200\n",
      "Epoch 14, CIFAR-10 Batch 1:  Loss:     0.8414 Validation Accuracy: 0.637400\n",
      "Epoch 14, CIFAR-10 Batch 2:  Loss:     0.8249 Validation Accuracy: 0.632600\n",
      "Epoch 14, CIFAR-10 Batch 3:  Loss:     0.7312 Validation Accuracy: 0.642600\n",
      "Epoch 14, CIFAR-10 Batch 4:  Loss:     0.7530 Validation Accuracy: 0.630400\n",
      "Epoch 14, CIFAR-10 Batch 5:  Loss:     0.7626 Validation Accuracy: 0.630600\n",
      "Epoch 15, CIFAR-10 Batch 1:  Loss:     0.7917 Validation Accuracy: 0.643200\n",
      "Epoch 15, CIFAR-10 Batch 2:  Loss:     0.8096 Validation Accuracy: 0.642600\n",
      "Epoch 15, CIFAR-10 Batch 3:  Loss:     0.7147 Validation Accuracy: 0.646600\n",
      "Epoch 15, CIFAR-10 Batch 4:  Loss:     0.7068 Validation Accuracy: 0.642200\n",
      "Epoch 15, CIFAR-10 Batch 5:  Loss:     0.7405 Validation Accuracy: 0.641400\n",
      "Epoch 16, CIFAR-10 Batch 1:  Loss:     0.7471 Validation Accuracy: 0.653200\n",
      "Epoch 16, CIFAR-10 Batch 2:  Loss:     0.7604 Validation Accuracy: 0.653000\n",
      "Epoch 16, CIFAR-10 Batch 3:  Loss:     0.6913 Validation Accuracy: 0.648800\n",
      "Epoch 16, CIFAR-10 Batch 4:  Loss:     0.6658 Validation Accuracy: 0.644800\n",
      "Epoch 16, CIFAR-10 Batch 5:  Loss:     0.6945 Validation Accuracy: 0.642200\n",
      "Epoch 17, CIFAR-10 Batch 1:  Loss:     0.7144 Validation Accuracy: 0.655600\n",
      "Epoch 17, CIFAR-10 Batch 2:  Loss:     0.7565 Validation Accuracy: 0.645000\n",
      "Epoch 17, CIFAR-10 Batch 3:  Loss:     0.6647 Validation Accuracy: 0.653600\n",
      "Epoch 17, CIFAR-10 Batch 4:  Loss:     0.6653 Validation Accuracy: 0.648800\n",
      "Epoch 17, CIFAR-10 Batch 5:  Loss:     0.6768 Validation Accuracy: 0.647800\n",
      "Epoch 18, CIFAR-10 Batch 1:  Loss:     0.7088 Validation Accuracy: 0.653000\n",
      "Epoch 18, CIFAR-10 Batch 2:  Loss:     0.7205 Validation Accuracy: 0.657000\n",
      "Epoch 18, CIFAR-10 Batch 3:  Loss:     0.6269 Validation Accuracy: 0.654200\n",
      "Epoch 18, CIFAR-10 Batch 4:  Loss:     0.6550 Validation Accuracy: 0.643600\n",
      "Epoch 18, CIFAR-10 Batch 5:  Loss:     0.6589 Validation Accuracy: 0.654400\n",
      "Epoch 19, CIFAR-10 Batch 1:  Loss:     0.6922 Validation Accuracy: 0.648000\n",
      "Epoch 19, CIFAR-10 Batch 2:  Loss:     0.7215 Validation Accuracy: 0.641000\n",
      "Epoch 19, CIFAR-10 Batch 3:  Loss:     0.6518 Validation Accuracy: 0.653400\n",
      "Epoch 19, CIFAR-10 Batch 4:  Loss:     0.6051 Validation Accuracy: 0.655600\n",
      "Epoch 19, CIFAR-10 Batch 5:  Loss:     0.6593 Validation Accuracy: 0.661200\n",
      "Epoch 20, CIFAR-10 Batch 1:  Loss:     0.6613 Validation Accuracy: 0.652200\n",
      "Epoch 20, CIFAR-10 Batch 2:  Loss:     0.7835 Validation Accuracy: 0.616400\n",
      "Epoch 20, CIFAR-10 Batch 3:  Loss:     0.6284 Validation Accuracy: 0.654200\n",
      "Epoch 20, CIFAR-10 Batch 4:  Loss:     0.5948 Validation Accuracy: 0.656000\n",
      "Epoch 20, CIFAR-10 Batch 5:  Loss:     0.6284 Validation Accuracy: 0.662800\n",
      "Epoch 21, CIFAR-10 Batch 1:  Loss:     0.6191 Validation Accuracy: 0.661800\n",
      "Epoch 21, CIFAR-10 Batch 2:  Loss:     0.6986 Validation Accuracy: 0.639000\n",
      "Epoch 21, CIFAR-10 Batch 3:  Loss:     0.6370 Validation Accuracy: 0.654000\n",
      "Epoch 21, CIFAR-10 Batch 4:  Loss:     0.5866 Validation Accuracy: 0.654800\n",
      "Epoch 21, CIFAR-10 Batch 5:  Loss:     0.6012 Validation Accuracy: 0.666600\n",
      "Epoch 22, CIFAR-10 Batch 1:  Loss:     0.6680 Validation Accuracy: 0.642000\n",
      "Epoch 22, CIFAR-10 Batch 2:  Loss:     0.6620 Validation Accuracy: 0.660800\n",
      "Epoch 22, CIFAR-10 Batch 3:  Loss:     0.5487 Validation Accuracy: 0.664600\n",
      "Epoch 22, CIFAR-10 Batch 4:  Loss:     0.5533 Validation Accuracy: 0.660000\n",
      "Epoch 22, CIFAR-10 Batch 5:  Loss:     0.5983 Validation Accuracy: 0.658800\n",
      "Epoch 23, CIFAR-10 Batch 1:  Loss:     0.6037 Validation Accuracy: 0.657400\n",
      "Epoch 23, CIFAR-10 Batch 2:  Loss:     0.6359 Validation Accuracy: 0.663800\n",
      "Epoch 23, CIFAR-10 Batch 3:  Loss:     0.5313 Validation Accuracy: 0.671000\n",
      "Epoch 23, CIFAR-10 Batch 4:  Loss:     0.5773 Validation Accuracy: 0.652400\n",
      "Epoch 23, CIFAR-10 Batch 5:  Loss:     0.5369 Validation Accuracy: 0.676000\n",
      "Epoch 24, CIFAR-10 Batch 1:  Loss:     0.5745 Validation Accuracy: 0.658800\n",
      "Epoch 24, CIFAR-10 Batch 2:  Loss:     0.6140 Validation Accuracy: 0.660000\n",
      "Epoch 24, CIFAR-10 Batch 3:  Loss:     0.5373 Validation Accuracy: 0.661400\n",
      "Epoch 24, CIFAR-10 Batch 4:  Loss:     0.5182 Validation Accuracy: 0.667600\n",
      "Epoch 24, CIFAR-10 Batch 5:  Loss:     0.5130 Validation Accuracy: 0.674400\n",
      "Epoch 25, CIFAR-10 Batch 1:  Loss:     0.5746 Validation Accuracy: 0.654800\n",
      "Epoch 25, CIFAR-10 Batch 2:  Loss:     0.6268 Validation Accuracy: 0.655200\n",
      "Epoch 25, CIFAR-10 Batch 3:  Loss:     0.5010 Validation Accuracy: 0.674200\n",
      "Epoch 25, CIFAR-10 Batch 4:  Loss:     0.4910 Validation Accuracy: 0.676200\n",
      "Epoch 25, CIFAR-10 Batch 5:  Loss:     0.5088 Validation Accuracy: 0.675400\n",
      "Epoch 26, CIFAR-10 Batch 1:  Loss:     0.5344 Validation Accuracy: 0.661600\n",
      "Epoch 26, CIFAR-10 Batch 2:  Loss:     0.5746 Validation Accuracy: 0.662600\n",
      "Epoch 26, CIFAR-10 Batch 3:  Loss:     0.4806 Validation Accuracy: 0.669400\n",
      "Epoch 26, CIFAR-10 Batch 4:  Loss:     0.4844 Validation Accuracy: 0.670600\n",
      "Epoch 26, CIFAR-10 Batch 5:  Loss:     0.4955 Validation Accuracy: 0.682600\n",
      "Epoch 27, CIFAR-10 Batch 1:  Loss:     0.5074 Validation Accuracy: 0.665800\n",
      "Epoch 27, CIFAR-10 Batch 2:  Loss:     0.5499 Validation Accuracy: 0.668000\n",
      "Epoch 27, CIFAR-10 Batch 3:  Loss:     0.4750 Validation Accuracy: 0.678600\n",
      "Epoch 27, CIFAR-10 Batch 4:  Loss:     0.4733 Validation Accuracy: 0.677000\n",
      "Epoch 27, CIFAR-10 Batch 5:  Loss:     0.4759 Validation Accuracy: 0.679800\n",
      "Epoch 28, CIFAR-10 Batch 1:  Loss:     0.5116 Validation Accuracy: 0.661400\n",
      "Epoch 28, CIFAR-10 Batch 2:  Loss:     0.5197 Validation Accuracy: 0.681000\n",
      "Epoch 28, CIFAR-10 Batch 3:  Loss:     0.4686 Validation Accuracy: 0.675800\n",
      "Epoch 28, CIFAR-10 Batch 4:  Loss:     0.4736 Validation Accuracy: 0.671000\n",
      "Epoch 28, CIFAR-10 Batch 5:  Loss:     0.4656 Validation Accuracy: 0.679400\n",
      "Epoch 29, CIFAR-10 Batch 1:  Loss:     0.5029 Validation Accuracy: 0.664200\n",
      "Epoch 29, CIFAR-10 Batch 2:  Loss:     0.5197 Validation Accuracy: 0.681400\n",
      "Epoch 29, CIFAR-10 Batch 3:  Loss:     0.4670 Validation Accuracy: 0.671600\n",
      "Epoch 29, CIFAR-10 Batch 4:  Loss:     0.4350 Validation Accuracy: 0.683000\n",
      "Epoch 29, CIFAR-10 Batch 5:  Loss:     0.4651 Validation Accuracy: 0.665400\n",
      "Epoch 30, CIFAR-10 Batch 1:  Loss:     0.4932 Validation Accuracy: 0.675200\n",
      "Epoch 30, CIFAR-10 Batch 2:  Loss:     0.4904 Validation Accuracy: 0.688800\n",
      "Epoch 30, CIFAR-10 Batch 3:  Loss:     0.4434 Validation Accuracy: 0.674600\n",
      "Epoch 30, CIFAR-10 Batch 4:  Loss:     0.4441 Validation Accuracy: 0.674800\n",
      "Epoch 30, CIFAR-10 Batch 5:  Loss:     0.4225 Validation Accuracy: 0.672000\n",
      "Epoch 31, CIFAR-10 Batch 1:  Loss:     0.4643 Validation Accuracy: 0.685600\n",
      "Epoch 31, CIFAR-10 Batch 2:  Loss:     0.4748 Validation Accuracy: 0.681800\n",
      "Epoch 31, CIFAR-10 Batch 3:  Loss:     0.4514 Validation Accuracy: 0.672200\n",
      "Epoch 31, CIFAR-10 Batch 4:  Loss:     0.4270 Validation Accuracy: 0.680000\n",
      "Epoch 31, CIFAR-10 Batch 5:  Loss:     0.4395 Validation Accuracy: 0.664400\n",
      "Epoch 32, CIFAR-10 Batch 1:  Loss:     0.4664 Validation Accuracy: 0.688200\n",
      "Epoch 32, CIFAR-10 Batch 2:  Loss:     0.4752 Validation Accuracy: 0.683600\n",
      "Epoch 32, CIFAR-10 Batch 3:  Loss:     0.4318 Validation Accuracy: 0.683600\n",
      "Epoch 32, CIFAR-10 Batch 4:  Loss:     0.4215 Validation Accuracy: 0.683600\n",
      "Epoch 32, CIFAR-10 Batch 5:  Loss:     0.4137 Validation Accuracy: 0.668800\n",
      "Epoch 33, CIFAR-10 Batch 1:  Loss:     0.4372 Validation Accuracy: 0.687400\n",
      "Epoch 33, CIFAR-10 Batch 2:  Loss:     0.4616 Validation Accuracy: 0.682600\n",
      "Epoch 33, CIFAR-10 Batch 3:  Loss:     0.4142 Validation Accuracy: 0.676000\n",
      "Epoch 33, CIFAR-10 Batch 4:  Loss:     0.4043 Validation Accuracy: 0.692800\n",
      "Epoch 33, CIFAR-10 Batch 5:  Loss:     0.4092 Validation Accuracy: 0.676000\n",
      "Epoch 34, CIFAR-10 Batch 1:  Loss:     0.4080 Validation Accuracy: 0.680800\n",
      "Epoch 34, CIFAR-10 Batch 2:  Loss:     0.4365 Validation Accuracy: 0.683600\n",
      "Epoch 34, CIFAR-10 Batch 3:  Loss:     0.3781 Validation Accuracy: 0.682000\n",
      "Epoch 34, CIFAR-10 Batch 4:  Loss:     0.3809 Validation Accuracy: 0.686600\n",
      "Epoch 34, CIFAR-10 Batch 5:  Loss:     0.3977 Validation Accuracy: 0.670600\n",
      "Epoch 35, CIFAR-10 Batch 1:  Loss:     0.4254 Validation Accuracy: 0.686800\n",
      "Epoch 35, CIFAR-10 Batch 2:  Loss:     0.4370 Validation Accuracy: 0.687200\n",
      "Epoch 35, CIFAR-10 Batch 3:  Loss:     0.4074 Validation Accuracy: 0.674000\n",
      "Epoch 35, CIFAR-10 Batch 4:  Loss:     0.3700 Validation Accuracy: 0.691600\n",
      "Epoch 35, CIFAR-10 Batch 5:  Loss:     0.3845 Validation Accuracy: 0.677600\n",
      "Epoch 36, CIFAR-10 Batch 1:  Loss:     0.4131 Validation Accuracy: 0.692000\n",
      "Epoch 36, CIFAR-10 Batch 2:  Loss:     0.4204 Validation Accuracy: 0.689600\n",
      "Epoch 36, CIFAR-10 Batch 3:  Loss:     0.3766 Validation Accuracy: 0.680600\n",
      "Epoch 36, CIFAR-10 Batch 4:  Loss:     0.3736 Validation Accuracy: 0.681400\n",
      "Epoch 36, CIFAR-10 Batch 5:  Loss:     0.3551 Validation Accuracy: 0.683200\n",
      "Epoch 37, CIFAR-10 Batch 1:  Loss:     0.3894 Validation Accuracy: 0.680800\n",
      "Epoch 37, CIFAR-10 Batch 2:  Loss:     0.3908 Validation Accuracy: 0.681200\n",
      "Epoch 37, CIFAR-10 Batch 3:  Loss:     0.3710 Validation Accuracy: 0.676000\n",
      "Epoch 37, CIFAR-10 Batch 4:  Loss:     0.3776 Validation Accuracy: 0.680600\n",
      "Epoch 37, CIFAR-10 Batch 5:  Loss:     0.3595 Validation Accuracy: 0.684000\n",
      "Epoch 38, CIFAR-10 Batch 1:  Loss:     0.4269 Validation Accuracy: 0.670600\n",
      "Epoch 38, CIFAR-10 Batch 2:  Loss:     0.3894 Validation Accuracy: 0.688600\n",
      "Epoch 38, CIFAR-10 Batch 3:  Loss:     0.3499 Validation Accuracy: 0.684000\n",
      "Epoch 38, CIFAR-10 Batch 4:  Loss:     0.3712 Validation Accuracy: 0.680200\n",
      "Epoch 38, CIFAR-10 Batch 5:  Loss:     0.3318 Validation Accuracy: 0.687400\n",
      "Epoch 39, CIFAR-10 Batch 1:  Loss:     0.3649 Validation Accuracy: 0.688600\n",
      "Epoch 39, CIFAR-10 Batch 2:  Loss:     0.3574 Validation Accuracy: 0.690200\n",
      "Epoch 39, CIFAR-10 Batch 3:  Loss:     0.3720 Validation Accuracy: 0.676000\n",
      "Epoch 39, CIFAR-10 Batch 4:  Loss:     0.3446 Validation Accuracy: 0.686600\n",
      "Epoch 39, CIFAR-10 Batch 5:  Loss:     0.3289 Validation Accuracy: 0.684800\n",
      "Epoch 40, CIFAR-10 Batch 1:  Loss:     0.3524 Validation Accuracy: 0.685400\n",
      "Epoch 40, CIFAR-10 Batch 2:  Loss:     0.3420 Validation Accuracy: 0.691000\n",
      "Epoch 40, CIFAR-10 Batch 3:  Loss:     0.3391 Validation Accuracy: 0.683200\n",
      "Epoch 40, CIFAR-10 Batch 4:  Loss:     0.3539 Validation Accuracy: 0.675600\n",
      "Epoch 40, CIFAR-10 Batch 5:  Loss:     0.3452 Validation Accuracy: 0.683200\n",
      "Epoch 41, CIFAR-10 Batch 1:  Loss:     0.3444 Validation Accuracy: 0.683600\n",
      "Epoch 41, CIFAR-10 Batch 2:  Loss:     0.3424 Validation Accuracy: 0.698000\n",
      "Epoch 41, CIFAR-10 Batch 3:  Loss:     0.3069 Validation Accuracy: 0.689800\n",
      "Epoch 41, CIFAR-10 Batch 4:  Loss:     0.3323 Validation Accuracy: 0.685000\n",
      "Epoch 41, CIFAR-10 Batch 5:  Loss:     0.3317 Validation Accuracy: 0.678600\n",
      "Epoch 42, CIFAR-10 Batch 1:  Loss:     0.3569 Validation Accuracy: 0.669400\n",
      "Epoch 42, CIFAR-10 Batch 2:  Loss:     0.3267 Validation Accuracy: 0.694600\n",
      "Epoch 42, CIFAR-10 Batch 3:  Loss:     0.3184 Validation Accuracy: 0.678000\n",
      "Epoch 42, CIFAR-10 Batch 4:  Loss:     0.2992 Validation Accuracy: 0.688400\n",
      "Epoch 42, CIFAR-10 Batch 5:  Loss:     0.3078 Validation Accuracy: 0.687800\n",
      "Epoch 43, CIFAR-10 Batch 1:  Loss:     0.3486 Validation Accuracy: 0.671000\n",
      "Epoch 43, CIFAR-10 Batch 2:  Loss:     0.3187 Validation Accuracy: 0.694200\n",
      "Epoch 43, CIFAR-10 Batch 3:  Loss:     0.3194 Validation Accuracy: 0.678400\n",
      "Epoch 43, CIFAR-10 Batch 4:  Loss:     0.3116 Validation Accuracy: 0.680000\n",
      "Epoch 43, CIFAR-10 Batch 5:  Loss:     0.3102 Validation Accuracy: 0.678600\n",
      "Epoch 44, CIFAR-10 Batch 1:  Loss:     0.3057 Validation Accuracy: 0.676600\n",
      "Epoch 44, CIFAR-10 Batch 2:  Loss:     0.2927 Validation Accuracy: 0.690600\n",
      "Epoch 44, CIFAR-10 Batch 3:  Loss:     0.2832 Validation Accuracy: 0.689000\n",
      "Epoch 44, CIFAR-10 Batch 4:  Loss:     0.3380 Validation Accuracy: 0.664200\n",
      "Epoch 44, CIFAR-10 Batch 5:  Loss:     0.3627 Validation Accuracy: 0.663800\n",
      "Epoch 45, CIFAR-10 Batch 1:  Loss:     0.3330 Validation Accuracy: 0.688800\n",
      "Epoch 45, CIFAR-10 Batch 2:  Loss:     0.3433 Validation Accuracy: 0.674200\n",
      "Epoch 45, CIFAR-10 Batch 3:  Loss:     0.2857 Validation Accuracy: 0.684600\n",
      "Epoch 45, CIFAR-10 Batch 4:  Loss:     0.3210 Validation Accuracy: 0.668000\n",
      "Epoch 45, CIFAR-10 Batch 5:  Loss:     0.3061 Validation Accuracy: 0.683600\n",
      "Epoch 46, CIFAR-10 Batch 1:  Loss:     0.3078 Validation Accuracy: 0.686000\n",
      "Epoch 46, CIFAR-10 Batch 2:  Loss:     0.3141 Validation Accuracy: 0.667200\n",
      "Epoch 46, CIFAR-10 Batch 3:  Loss:     0.3435 Validation Accuracy: 0.661600\n",
      "Epoch 46, CIFAR-10 Batch 4:  Loss:     0.3015 Validation Accuracy: 0.674400\n",
      "Epoch 46, CIFAR-10 Batch 5:  Loss:     0.2980 Validation Accuracy: 0.685800\n",
      "Epoch 47, CIFAR-10 Batch 1:  Loss:     0.3224 Validation Accuracy: 0.682600\n",
      "Epoch 47, CIFAR-10 Batch 2:  Loss:     0.3168 Validation Accuracy: 0.666800\n",
      "Epoch 47, CIFAR-10 Batch 3:  Loss:     0.2786 Validation Accuracy: 0.687800\n",
      "Epoch 47, CIFAR-10 Batch 4:  Loss:     0.3333 Validation Accuracy: 0.653800\n",
      "Epoch 47, CIFAR-10 Batch 5:  Loss:     0.2573 Validation Accuracy: 0.689800\n",
      "Epoch 48, CIFAR-10 Batch 1:  Loss:     0.2856 Validation Accuracy: 0.685600\n",
      "Epoch 48, CIFAR-10 Batch 2:  Loss:     0.2910 Validation Accuracy: 0.672400\n",
      "Epoch 48, CIFAR-10 Batch 3:  Loss:     0.2847 Validation Accuracy: 0.678400\n",
      "Epoch 48, CIFAR-10 Batch 4:  Loss:     0.2748 Validation Accuracy: 0.675400\n",
      "Epoch 48, CIFAR-10 Batch 5:  Loss:     0.2642 Validation Accuracy: 0.688000\n",
      "Epoch 49, CIFAR-10 Batch 1:  Loss:     0.2805 Validation Accuracy: 0.680800\n",
      "Epoch 49, CIFAR-10 Batch 2:  Loss:     0.2665 Validation Accuracy: 0.679000\n",
      "Epoch 49, CIFAR-10 Batch 3:  Loss:     0.2793 Validation Accuracy: 0.678600\n",
      "Epoch 49, CIFAR-10 Batch 4:  Loss:     0.2854 Validation Accuracy: 0.666000\n",
      "Epoch 49, CIFAR-10 Batch 5:  Loss:     0.2610 Validation Accuracy: 0.689600\n",
      "Epoch 50, CIFAR-10 Batch 1:  Loss:     0.2805 Validation Accuracy: 0.675600\n",
      "Epoch 50, CIFAR-10 Batch 2:  Loss:     0.2546 Validation Accuracy: 0.685800\n",
      "Epoch 50, CIFAR-10 Batch 3:  Loss:     0.2883 Validation Accuracy: 0.674400\n",
      "Epoch 50, CIFAR-10 Batch 4:  Loss:     0.2543 Validation Accuracy: 0.675200\n",
      "Epoch 50, CIFAR-10 Batch 5:  Loss:     0.2466 Validation Accuracy: 0.683400\n",
      "Epoch 51, CIFAR-10 Batch 1:  Loss:     0.2696 Validation Accuracy: 0.672200\n",
      "Epoch 51, CIFAR-10 Batch 2:  Loss:     0.2811 Validation Accuracy: 0.687000\n",
      "Epoch 51, CIFAR-10 Batch 3:  Loss:     0.2544 Validation Accuracy: 0.691000\n",
      "Epoch 51, CIFAR-10 Batch 4:  Loss:     0.2604 Validation Accuracy: 0.668600\n",
      "Epoch 51, CIFAR-10 Batch 5:  Loss:     0.2771 Validation Accuracy: 0.672000\n",
      "Epoch 52, CIFAR-10 Batch 1:  Loss:     0.3076 Validation Accuracy: 0.663000\n",
      "Epoch 52, CIFAR-10 Batch 2:  Loss:     0.3908 Validation Accuracy: 0.649200\n",
      "Epoch 52, CIFAR-10 Batch 3:  Loss:     0.2834 Validation Accuracy: 0.684400\n",
      "Epoch 52, CIFAR-10 Batch 4:  Loss:     0.2487 Validation Accuracy: 0.674200\n",
      "Epoch 52, CIFAR-10 Batch 5:  Loss:     0.2618 Validation Accuracy: 0.678000\n",
      "Epoch 53, CIFAR-10 Batch 1:  Loss:     0.2489 Validation Accuracy: 0.686800\n",
      "Epoch 53, CIFAR-10 Batch 2:  Loss:     0.2856 Validation Accuracy: 0.679600\n",
      "Epoch 53, CIFAR-10 Batch 3:  Loss:     0.2753 Validation Accuracy: 0.681200\n",
      "Epoch 53, CIFAR-10 Batch 4:  Loss:     0.2280 Validation Accuracy: 0.681000\n",
      "Epoch 53, CIFAR-10 Batch 5:  Loss:     0.2460 Validation Accuracy: 0.682800\n",
      "Epoch 54, CIFAR-10 Batch 1:  Loss:     0.2484 Validation Accuracy: 0.682600\n",
      "Epoch 54, CIFAR-10 Batch 2:  Loss:     0.2513 Validation Accuracy: 0.681600\n",
      "Epoch 54, CIFAR-10 Batch 3:  Loss:     0.2214 Validation Accuracy: 0.684200\n",
      "Epoch 54, CIFAR-10 Batch 4:  Loss:     0.2544 Validation Accuracy: 0.661800\n",
      "Epoch 54, CIFAR-10 Batch 5:  Loss:     0.2492 Validation Accuracy: 0.671000\n",
      "Epoch 55, CIFAR-10 Batch 1:  Loss:     0.2476 Validation Accuracy: 0.681600\n",
      "Epoch 55, CIFAR-10 Batch 2:  Loss:     0.2662 Validation Accuracy: 0.669800\n",
      "Epoch 55, CIFAR-10 Batch 3:  Loss:     0.2353 Validation Accuracy: 0.675200\n",
      "Epoch 55, CIFAR-10 Batch 4:  Loss:     0.2297 Validation Accuracy: 0.669600\n",
      "Epoch 55, CIFAR-10 Batch 5:  Loss:     0.2434 Validation Accuracy: 0.670000\n",
      "Epoch 56, CIFAR-10 Batch 1:  Loss:     0.2297 Validation Accuracy: 0.683200\n",
      "Epoch 56, CIFAR-10 Batch 2:  Loss:     0.2322 Validation Accuracy: 0.683800\n",
      "Epoch 56, CIFAR-10 Batch 3:  Loss:     0.2197 Validation Accuracy: 0.681000\n",
      "Epoch 56, CIFAR-10 Batch 4:  Loss:     0.2180 Validation Accuracy: 0.675600\n",
      "Epoch 56, CIFAR-10 Batch 5:  Loss:     0.2265 Validation Accuracy: 0.677800\n",
      "Epoch 57, CIFAR-10 Batch 1:  Loss:     0.2436 Validation Accuracy: 0.676600\n",
      "Epoch 57, CIFAR-10 Batch 2:  Loss:     0.2362 Validation Accuracy: 0.678600\n",
      "Epoch 57, CIFAR-10 Batch 3:  Loss:     0.2143 Validation Accuracy: 0.682200\n",
      "Epoch 57, CIFAR-10 Batch 4:  Loss:     0.2209 Validation Accuracy: 0.671000\n",
      "Epoch 57, CIFAR-10 Batch 5:  Loss:     0.2161 Validation Accuracy: 0.676000\n",
      "Epoch 58, CIFAR-10 Batch 1:  Loss:     0.2296 Validation Accuracy: 0.679400\n",
      "Epoch 58, CIFAR-10 Batch 2:  Loss:     0.2449 Validation Accuracy: 0.676200\n",
      "Epoch 58, CIFAR-10 Batch 3:  Loss:     0.2047 Validation Accuracy: 0.682800\n",
      "Epoch 58, CIFAR-10 Batch 4:  Loss:     0.2041 Validation Accuracy: 0.683000\n",
      "Epoch 58, CIFAR-10 Batch 5:  Loss:     0.2217 Validation Accuracy: 0.673800\n",
      "Epoch 59, CIFAR-10 Batch 1:  Loss:     0.2163 Validation Accuracy: 0.685600\n",
      "Epoch 59, CIFAR-10 Batch 2:  Loss:     0.2208 Validation Accuracy: 0.679000\n",
      "Epoch 59, CIFAR-10 Batch 3:  Loss:     0.2081 Validation Accuracy: 0.681600\n",
      "Epoch 59, CIFAR-10 Batch 4:  Loss:     0.2266 Validation Accuracy: 0.674800\n",
      "Epoch 59, CIFAR-10 Batch 5:  Loss:     0.2042 Validation Accuracy: 0.668800\n",
      "Epoch 60, CIFAR-10 Batch 1:  Loss:     0.2202 Validation Accuracy: 0.679400\n",
      "Epoch 60, CIFAR-10 Batch 2:  Loss:     0.2281 Validation Accuracy: 0.680200\n",
      "Epoch 60, CIFAR-10 Batch 3:  Loss:     0.2059 Validation Accuracy: 0.681200\n",
      "Epoch 60, CIFAR-10 Batch 4:  Loss:     0.1948 Validation Accuracy: 0.682000\n",
      "Epoch 60, CIFAR-10 Batch 5:  Loss:     0.2227 Validation Accuracy: 0.665600\n",
      "Epoch 61, CIFAR-10 Batch 1:  Loss:     0.2103 Validation Accuracy: 0.681400\n",
      "Epoch 61, CIFAR-10 Batch 2:  Loss:     0.2290 Validation Accuracy: 0.675400\n",
      "Epoch 61, CIFAR-10 Batch 3:  Loss:     0.2111 Validation Accuracy: 0.686000\n",
      "Epoch 61, CIFAR-10 Batch 4:  Loss:     0.2247 Validation Accuracy: 0.674400\n",
      "Epoch 61, CIFAR-10 Batch 5:  Loss:     0.2274 Validation Accuracy: 0.669600\n",
      "Epoch 62, CIFAR-10 Batch 1:  Loss:     0.1950 Validation Accuracy: 0.684600\n",
      "Epoch 62, CIFAR-10 Batch 2:  Loss:     0.2058 Validation Accuracy: 0.680000\n",
      "Epoch 62, CIFAR-10 Batch 3:  Loss:     0.1930 Validation Accuracy: 0.689800\n",
      "Epoch 62, CIFAR-10 Batch 4:  Loss:     0.2083 Validation Accuracy: 0.680600\n",
      "Epoch 62, CIFAR-10 Batch 5:  Loss:     0.1915 Validation Accuracy: 0.683200\n",
      "Epoch 63, CIFAR-10 Batch 1:  Loss:     0.1831 Validation Accuracy: 0.691600\n",
      "Epoch 63, CIFAR-10 Batch 2:  Loss:     0.2138 Validation Accuracy: 0.679200\n",
      "Epoch 63, CIFAR-10 Batch 3:  Loss:     0.2021 Validation Accuracy: 0.689800\n",
      "Epoch 63, CIFAR-10 Batch 4:  Loss:     0.1926 Validation Accuracy: 0.679400\n",
      "Epoch 63, CIFAR-10 Batch 5:  Loss:     0.1840 Validation Accuracy: 0.683600\n",
      "Epoch 64, CIFAR-10 Batch 1:  Loss:     0.1881 Validation Accuracy: 0.683400\n",
      "Epoch 64, CIFAR-10 Batch 2:  Loss:     0.1888 Validation Accuracy: 0.686400\n",
      "Epoch 64, CIFAR-10 Batch 3:  Loss:     0.1714 Validation Accuracy: 0.693600\n",
      "Epoch 64, CIFAR-10 Batch 4:  Loss:     0.1918 Validation Accuracy: 0.683400\n",
      "Epoch 64, CIFAR-10 Batch 5:  Loss:     0.1631 Validation Accuracy: 0.682800\n",
      "Epoch 65, CIFAR-10 Batch 1:  Loss:     0.1638 Validation Accuracy: 0.696200\n",
      "Epoch 65, CIFAR-10 Batch 2:  Loss:     0.1806 Validation Accuracy: 0.684400\n",
      "Epoch 65, CIFAR-10 Batch 3:  Loss:     0.1569 Validation Accuracy: 0.697000\n",
      "Epoch 65, CIFAR-10 Batch 4:  Loss:     0.1703 Validation Accuracy: 0.691600\n",
      "Epoch 65, CIFAR-10 Batch 5:  Loss:     0.1678 Validation Accuracy: 0.677400\n",
      "Epoch 66, CIFAR-10 Batch 1:  Loss:     0.1503 Validation Accuracy: 0.697600\n",
      "Epoch 66, CIFAR-10 Batch 2:  Loss:     0.1783 Validation Accuracy: 0.678800\n",
      "Epoch 66, CIFAR-10 Batch 3:  Loss:     0.1731 Validation Accuracy: 0.694600\n",
      "Epoch 66, CIFAR-10 Batch 4:  Loss:     0.1532 Validation Accuracy: 0.691000\n",
      "Epoch 66, CIFAR-10 Batch 5:  Loss:     0.1559 Validation Accuracy: 0.686400\n",
      "Epoch 67, CIFAR-10 Batch 1:  Loss:     0.1466 Validation Accuracy: 0.692000\n",
      "Epoch 67, CIFAR-10 Batch 2:  Loss:     0.1309 Validation Accuracy: 0.696200\n",
      "Epoch 67, CIFAR-10 Batch 3:  Loss:     0.1565 Validation Accuracy: 0.690800\n",
      "Epoch 67, CIFAR-10 Batch 4:  Loss:     0.1591 Validation Accuracy: 0.690000\n",
      "Epoch 67, CIFAR-10 Batch 5:  Loss:     0.1625 Validation Accuracy: 0.678400\n",
      "Epoch 68, CIFAR-10 Batch 1:  Loss:     0.1366 Validation Accuracy: 0.690600\n",
      "Epoch 68, CIFAR-10 Batch 2:  Loss:     0.1464 Validation Accuracy: 0.692600\n",
      "Epoch 68, CIFAR-10 Batch 3:  Loss:     0.1638 Validation Accuracy: 0.695400\n",
      "Epoch 68, CIFAR-10 Batch 4:  Loss:     0.1391 Validation Accuracy: 0.689800\n",
      "Epoch 68, CIFAR-10 Batch 5:  Loss:     0.1515 Validation Accuracy: 0.679000\n",
      "Epoch 69, CIFAR-10 Batch 1:  Loss:     0.1274 Validation Accuracy: 0.695000\n",
      "Epoch 69, CIFAR-10 Batch 2:  Loss:     0.1305 Validation Accuracy: 0.691400\n",
      "Epoch 69, CIFAR-10 Batch 3:  Loss:     0.1444 Validation Accuracy: 0.693800\n",
      "Epoch 69, CIFAR-10 Batch 4:  Loss:     0.1294 Validation Accuracy: 0.693800\n",
      "Epoch 69, CIFAR-10 Batch 5:  Loss:     0.1402 Validation Accuracy: 0.683000\n",
      "Epoch 70, CIFAR-10 Batch 1:  Loss:     0.1612 Validation Accuracy: 0.692400\n",
      "Epoch 70, CIFAR-10 Batch 2:  Loss:     0.1291 Validation Accuracy: 0.700000\n",
      "Epoch 70, CIFAR-10 Batch 3:  Loss:     0.1456 Validation Accuracy: 0.692000\n",
      "Epoch 70, CIFAR-10 Batch 4:  Loss:     0.1422 Validation Accuracy: 0.686200\n",
      "Epoch 70, CIFAR-10 Batch 5:  Loss:     0.1392 Validation Accuracy: 0.686600\n",
      "Epoch 71, CIFAR-10 Batch 1:  Loss:     0.1425 Validation Accuracy: 0.695800\n",
      "Epoch 71, CIFAR-10 Batch 2:  Loss:     0.1287 Validation Accuracy: 0.685400\n",
      "Epoch 71, CIFAR-10 Batch 3:  Loss:     0.1441 Validation Accuracy: 0.694800\n",
      "Epoch 71, CIFAR-10 Batch 4:  Loss:     0.1320 Validation Accuracy: 0.686800\n",
      "Epoch 71, CIFAR-10 Batch 5:  Loss:     0.1428 Validation Accuracy: 0.687400\n",
      "Epoch 72, CIFAR-10 Batch 1:  Loss:     0.1244 Validation Accuracy: 0.698000\n",
      "Epoch 72, CIFAR-10 Batch 2:  Loss:     0.1147 Validation Accuracy: 0.698800\n",
      "Epoch 72, CIFAR-10 Batch 3:  Loss:     0.1492 Validation Accuracy: 0.691400\n",
      "Epoch 72, CIFAR-10 Batch 4:  Loss:     0.1307 Validation Accuracy: 0.685800\n",
      "Epoch 72, CIFAR-10 Batch 5:  Loss:     0.1224 Validation Accuracy: 0.688800\n",
      "Epoch 73, CIFAR-10 Batch 1:  Loss:     0.1222 Validation Accuracy: 0.690000\n",
      "Epoch 73, CIFAR-10 Batch 2:  Loss:     0.1047 Validation Accuracy: 0.695400\n",
      "Epoch 73, CIFAR-10 Batch 3:  Loss:     0.1327 Validation Accuracy: 0.685800\n",
      "Epoch 73, CIFAR-10 Batch 4:  Loss:     0.1162 Validation Accuracy: 0.684200\n",
      "Epoch 73, CIFAR-10 Batch 5:  Loss:     0.1273 Validation Accuracy: 0.682200\n",
      "Epoch 74, CIFAR-10 Batch 1:  Loss:     0.1164 Validation Accuracy: 0.694000\n",
      "Epoch 74, CIFAR-10 Batch 2:  Loss:     0.1187 Validation Accuracy: 0.682600\n",
      "Epoch 74, CIFAR-10 Batch 3:  Loss:     0.1187 Validation Accuracy: 0.689800\n",
      "Epoch 74, CIFAR-10 Batch 4:  Loss:     0.1163 Validation Accuracy: 0.683400\n",
      "Epoch 74, CIFAR-10 Batch 5:  Loss:     0.1128 Validation Accuracy: 0.689200\n",
      "Epoch 75, CIFAR-10 Batch 1:  Loss:     0.1291 Validation Accuracy: 0.689600\n",
      "Epoch 75, CIFAR-10 Batch 2:  Loss:     0.1280 Validation Accuracy: 0.685800\n",
      "Epoch 75, CIFAR-10 Batch 3:  Loss:     0.1495 Validation Accuracy: 0.686400\n",
      "Epoch 75, CIFAR-10 Batch 4:  Loss:     0.1219 Validation Accuracy: 0.689000\n",
      "Epoch 75, CIFAR-10 Batch 5:  Loss:     0.1344 Validation Accuracy: 0.684400\n",
      "Epoch 76, CIFAR-10 Batch 1:  Loss:     0.1391 Validation Accuracy: 0.675000\n",
      "Epoch 76, CIFAR-10 Batch 2:  Loss:     0.1242 Validation Accuracy: 0.685200\n",
      "Epoch 76, CIFAR-10 Batch 3:  Loss:     0.1350 Validation Accuracy: 0.683600\n",
      "Epoch 76, CIFAR-10 Batch 4:  Loss:     0.1171 Validation Accuracy: 0.687800\n",
      "Epoch 76, CIFAR-10 Batch 5:  Loss:     0.1560 Validation Accuracy: 0.677200\n",
      "Epoch 77, CIFAR-10 Batch 1:  Loss:     0.1499 Validation Accuracy: 0.678200\n",
      "Epoch 77, CIFAR-10 Batch 2:  Loss:     0.1348 Validation Accuracy: 0.686600\n",
      "Epoch 77, CIFAR-10 Batch 3:  Loss:     0.1440 Validation Accuracy: 0.676600\n",
      "Epoch 77, CIFAR-10 Batch 4:  Loss:     0.1161 Validation Accuracy: 0.691800\n",
      "Epoch 77, CIFAR-10 Batch 5:  Loss:     0.1283 Validation Accuracy: 0.682800\n",
      "Epoch 78, CIFAR-10 Batch 1:  Loss:     0.1292 Validation Accuracy: 0.681800\n",
      "Epoch 78, CIFAR-10 Batch 2:  Loss:     0.1409 Validation Accuracy: 0.678200\n",
      "Epoch 78, CIFAR-10 Batch 3:  Loss:     0.1549 Validation Accuracy: 0.677400\n",
      "Epoch 78, CIFAR-10 Batch 4:  Loss:     0.1468 Validation Accuracy: 0.678200\n",
      "Epoch 78, CIFAR-10 Batch 5:  Loss:     0.1464 Validation Accuracy: 0.674600\n",
      "Epoch 79, CIFAR-10 Batch 1:  Loss:     0.1362 Validation Accuracy: 0.682000\n",
      "Epoch 79, CIFAR-10 Batch 2:  Loss:     0.1423 Validation Accuracy: 0.681400\n",
      "Epoch 79, CIFAR-10 Batch 3:  Loss:     0.1561 Validation Accuracy: 0.677400\n",
      "Epoch 79, CIFAR-10 Batch 4:  Loss:     0.1624 Validation Accuracy: 0.678200\n",
      "Epoch 79, CIFAR-10 Batch 5:  Loss:     0.1435 Validation Accuracy: 0.679400\n",
      "Epoch 80, CIFAR-10 Batch 1:  Loss:     0.1271 Validation Accuracy: 0.684800\n",
      "Epoch 80, CIFAR-10 Batch 2:  Loss:     0.1381 Validation Accuracy: 0.683200\n",
      "Epoch 80, CIFAR-10 Batch 3:  Loss:     0.1728 Validation Accuracy: 0.675000\n",
      "Epoch 80, CIFAR-10 Batch 4:  Loss:     0.1322 Validation Accuracy: 0.680200\n",
      "Epoch 80, CIFAR-10 Batch 5:  Loss:     0.1427 Validation Accuracy: 0.680600\n",
      "Epoch 81, CIFAR-10 Batch 1:  Loss:     0.1362 Validation Accuracy: 0.678400\n",
      "Epoch 81, CIFAR-10 Batch 2:  Loss:     0.1452 Validation Accuracy: 0.688800\n",
      "Epoch 81, CIFAR-10 Batch 3:  Loss:     0.1491 Validation Accuracy: 0.679800\n",
      "Epoch 81, CIFAR-10 Batch 4:  Loss:     0.1811 Validation Accuracy: 0.679200\n",
      "Epoch 81, CIFAR-10 Batch 5:  Loss:     0.1338 Validation Accuracy: 0.681200\n",
      "Epoch 82, CIFAR-10 Batch 1:  Loss:     0.1470 Validation Accuracy: 0.684200\n",
      "Epoch 82, CIFAR-10 Batch 2:  Loss:     0.1362 Validation Accuracy: 0.689200\n",
      "Epoch 82, CIFAR-10 Batch 3:  Loss:     0.2176 Validation Accuracy: 0.652800\n",
      "Epoch 82, CIFAR-10 Batch 4:  Loss:     0.1703 Validation Accuracy: 0.676400\n",
      "Epoch 82, CIFAR-10 Batch 5:  Loss:     0.1636 Validation Accuracy: 0.678800\n",
      "Epoch 83, CIFAR-10 Batch 1:  Loss:     0.1374 Validation Accuracy: 0.690600\n",
      "Epoch 83, CIFAR-10 Batch 2:  Loss:     0.1288 Validation Accuracy: 0.690400\n",
      "Epoch 83, CIFAR-10 Batch 3:  Loss:     0.1467 Validation Accuracy: 0.663600\n",
      "Epoch 83, CIFAR-10 Batch 4:  Loss:     0.1599 Validation Accuracy: 0.673400\n",
      "Epoch 83, CIFAR-10 Batch 5:  Loss:     0.1394 Validation Accuracy: 0.687800\n",
      "Epoch 84, CIFAR-10 Batch 1:  Loss:     0.1159 Validation Accuracy: 0.689400\n",
      "Epoch 84, CIFAR-10 Batch 2:  Loss:     0.1288 Validation Accuracy: 0.689000\n",
      "Epoch 84, CIFAR-10 Batch 3:  Loss:     0.1342 Validation Accuracy: 0.677600\n",
      "Epoch 84, CIFAR-10 Batch 4:  Loss:     0.1409 Validation Accuracy: 0.679000\n",
      "Epoch 84, CIFAR-10 Batch 5:  Loss:     0.1354 Validation Accuracy: 0.677800\n",
      "Epoch 85, CIFAR-10 Batch 1:  Loss:     0.1156 Validation Accuracy: 0.688200\n",
      "Epoch 85, CIFAR-10 Batch 2:  Loss:     0.1079 Validation Accuracy: 0.688800\n",
      "Epoch 85, CIFAR-10 Batch 3:  Loss:     0.1250 Validation Accuracy: 0.683800\n",
      "Epoch 85, CIFAR-10 Batch 4:  Loss:     0.1522 Validation Accuracy: 0.679600\n",
      "Epoch 85, CIFAR-10 Batch 5:  Loss:     0.1473 Validation Accuracy: 0.672800\n",
      "Epoch 86, CIFAR-10 Batch 1:  Loss:     0.1300 Validation Accuracy: 0.688200\n",
      "Epoch 86, CIFAR-10 Batch 2:  Loss:     0.1096 Validation Accuracy: 0.693400\n",
      "Epoch 86, CIFAR-10 Batch 3:  Loss:     0.1340 Validation Accuracy: 0.672400\n",
      "Epoch 86, CIFAR-10 Batch 4:  Loss:     0.1243 Validation Accuracy: 0.679600\n",
      "Epoch 86, CIFAR-10 Batch 5:  Loss:     0.1333 Validation Accuracy: 0.675000\n",
      "Epoch 87, CIFAR-10 Batch 1:  Loss:     0.1086 Validation Accuracy: 0.688600\n",
      "Epoch 87, CIFAR-10 Batch 2:  Loss:     0.1011 Validation Accuracy: 0.693800\n",
      "Epoch 87, CIFAR-10 Batch 3:  Loss:     0.1354 Validation Accuracy: 0.674000\n",
      "Epoch 87, CIFAR-10 Batch 4:  Loss:     0.1526 Validation Accuracy: 0.677800\n",
      "Epoch 87, CIFAR-10 Batch 5:  Loss:     0.1141 Validation Accuracy: 0.680200\n",
      "Epoch 88, CIFAR-10 Batch 1:  Loss:     0.1092 Validation Accuracy: 0.691400\n",
      "Epoch 88, CIFAR-10 Batch 2:  Loss:     0.0928 Validation Accuracy: 0.696600\n",
      "Epoch 88, CIFAR-10 Batch 3:  Loss:     0.1215 Validation Accuracy: 0.677800\n",
      "Epoch 88, CIFAR-10 Batch 4:  Loss:     0.1333 Validation Accuracy: 0.683200\n",
      "Epoch 88, CIFAR-10 Batch 5:  Loss:     0.1130 Validation Accuracy: 0.677400\n",
      "Epoch 89, CIFAR-10 Batch 1:  Loss:     0.0859 Validation Accuracy: 0.692000\n",
      "Epoch 89, CIFAR-10 Batch 2:  Loss:     0.0894 Validation Accuracy: 0.689400\n",
      "Epoch 89, CIFAR-10 Batch 3:  Loss:     0.1160 Validation Accuracy: 0.680200\n",
      "Epoch 89, CIFAR-10 Batch 4:  Loss:     0.1188 Validation Accuracy: 0.681800\n",
      "Epoch 89, CIFAR-10 Batch 5:  Loss:     0.1068 Validation Accuracy: 0.683800\n",
      "Epoch 90, CIFAR-10 Batch 1:  Loss:     0.0995 Validation Accuracy: 0.687000\n",
      "Epoch 90, CIFAR-10 Batch 2:  Loss:     0.0818 Validation Accuracy: 0.695200\n",
      "Epoch 90, CIFAR-10 Batch 3:  Loss:     0.1045 Validation Accuracy: 0.683400\n",
      "Epoch 90, CIFAR-10 Batch 4:  Loss:     0.1303 Validation Accuracy: 0.678400\n",
      "Epoch 90, CIFAR-10 Batch 5:  Loss:     0.0894 Validation Accuracy: 0.689200\n",
      "Epoch 91, CIFAR-10 Batch 1:  Loss:     0.0995 Validation Accuracy: 0.694200\n",
      "Epoch 91, CIFAR-10 Batch 2:  Loss:     0.0847 Validation Accuracy: 0.693400\n",
      "Epoch 91, CIFAR-10 Batch 3:  Loss:     0.1154 Validation Accuracy: 0.677400\n",
      "Epoch 91, CIFAR-10 Batch 4:  Loss:     0.0972 Validation Accuracy: 0.678400\n",
      "Epoch 91, CIFAR-10 Batch 5:  Loss:     0.0868 Validation Accuracy: 0.688000\n",
      "Epoch 92, CIFAR-10 Batch 1:  Loss:     0.0989 Validation Accuracy: 0.693600\n",
      "Epoch 92, CIFAR-10 Batch 2:  Loss:     0.0843 Validation Accuracy: 0.693400\n",
      "Epoch 92, CIFAR-10 Batch 3:  Loss:     0.1088 Validation Accuracy: 0.679400\n",
      "Epoch 92, CIFAR-10 Batch 4:  Loss:     0.1194 Validation Accuracy: 0.679400\n",
      "Epoch 92, CIFAR-10 Batch 5:  Loss:     0.1059 Validation Accuracy: 0.689000\n",
      "Epoch 93, CIFAR-10 Batch 1:  Loss:     0.0966 Validation Accuracy: 0.690800\n",
      "Epoch 93, CIFAR-10 Batch 2:  Loss:     0.0840 Validation Accuracy: 0.693400\n",
      "Epoch 93, CIFAR-10 Batch 3:  Loss:     0.1355 Validation Accuracy: 0.673600\n",
      "Epoch 93, CIFAR-10 Batch 4:  Loss:     0.1301 Validation Accuracy: 0.672400\n",
      "Epoch 93, CIFAR-10 Batch 5:  Loss:     0.1008 Validation Accuracy: 0.691600\n",
      "Epoch 94, CIFAR-10 Batch 1:  Loss:     0.0897 Validation Accuracy: 0.691200\n",
      "Epoch 94, CIFAR-10 Batch 2:  Loss:     0.0873 Validation Accuracy: 0.693800\n",
      "Epoch 94, CIFAR-10 Batch 3:  Loss:     0.1267 Validation Accuracy: 0.679000\n",
      "Epoch 94, CIFAR-10 Batch 4:  Loss:     0.0985 Validation Accuracy: 0.689200\n",
      "Epoch 94, CIFAR-10 Batch 5:  Loss:     0.0833 Validation Accuracy: 0.692200\n",
      "Epoch 95, CIFAR-10 Batch 1:  Loss:     0.0853 Validation Accuracy: 0.684000\n",
      "Epoch 95, CIFAR-10 Batch 2:  Loss:     0.0823 Validation Accuracy: 0.689400\n",
      "Epoch 95, CIFAR-10 Batch 3:  Loss:     0.1219 Validation Accuracy: 0.675800\n",
      "Epoch 95, CIFAR-10 Batch 4:  Loss:     0.0941 Validation Accuracy: 0.688600\n",
      "Epoch 95, CIFAR-10 Batch 5:  Loss:     0.0812 Validation Accuracy: 0.694800\n",
      "Epoch 96, CIFAR-10 Batch 1:  Loss:     0.0781 Validation Accuracy: 0.689800\n",
      "Epoch 96, CIFAR-10 Batch 2:  Loss:     0.0772 Validation Accuracy: 0.696200\n",
      "Epoch 96, CIFAR-10 Batch 3:  Loss:     0.1150 Validation Accuracy: 0.673600\n",
      "Epoch 96, CIFAR-10 Batch 4:  Loss:     0.0826 Validation Accuracy: 0.692200\n",
      "Epoch 96, CIFAR-10 Batch 5:  Loss:     0.0843 Validation Accuracy: 0.685800\n",
      "Epoch 97, CIFAR-10 Batch 1:  Loss:     0.0823 Validation Accuracy: 0.685200\n",
      "Epoch 97, CIFAR-10 Batch 2:  Loss:     0.0776 Validation Accuracy: 0.687200\n",
      "Epoch 97, CIFAR-10 Batch 3:  Loss:     0.0931 Validation Accuracy: 0.684400\n",
      "Epoch 97, CIFAR-10 Batch 4:  Loss:     0.0910 Validation Accuracy: 0.678800\n",
      "Epoch 97, CIFAR-10 Batch 5:  Loss:     0.1010 Validation Accuracy: 0.685000\n",
      "Epoch 98, CIFAR-10 Batch 1:  Loss:     0.0708 Validation Accuracy: 0.690200\n",
      "Epoch 98, CIFAR-10 Batch 2:  Loss:     0.0709 Validation Accuracy: 0.692400\n",
      "Epoch 98, CIFAR-10 Batch 3:  Loss:     0.0970 Validation Accuracy: 0.685000\n",
      "Epoch 98, CIFAR-10 Batch 4:  Loss:     0.1174 Validation Accuracy: 0.671800\n",
      "Epoch 98, CIFAR-10 Batch 5:  Loss:     0.1359 Validation Accuracy: 0.680600\n",
      "Epoch 99, CIFAR-10 Batch 1:  Loss:     0.1084 Validation Accuracy: 0.686600\n",
      "Epoch 99, CIFAR-10 Batch 2:  Loss:     0.0743 Validation Accuracy: 0.694800\n",
      "Epoch 99, CIFAR-10 Batch 3:  Loss:     0.1068 Validation Accuracy: 0.692000\n",
      "Epoch 99, CIFAR-10 Batch 4:  Loss:     0.1277 Validation Accuracy: 0.665800\n",
      "Epoch 99, CIFAR-10 Batch 5:  Loss:     0.1192 Validation Accuracy: 0.681200\n",
      "Epoch 100, CIFAR-10 Batch 1:  Loss:     0.0747 Validation Accuracy: 0.686800\n",
      "Epoch 100, CIFAR-10 Batch 2:  Loss:     0.0658 Validation Accuracy: 0.695200\n",
      "Epoch 100, CIFAR-10 Batch 3:  Loss:     0.1043 Validation Accuracy: 0.690800\n",
      "Epoch 100, CIFAR-10 Batch 4:  Loss:     0.0997 Validation Accuracy: 0.672200\n",
      "Epoch 100, CIFAR-10 Batch 5:  Loss:     0.0952 Validation Accuracy: 0.679400\n"
     ]
    }
   ],
   "source": [
    "\"\"\"\n",
    "DON'T MODIFY ANYTHING IN THIS CELL\n",
    "\"\"\"\n",
    "save_model_path = './image_classification'\n",
    "\n",
    "print('Training...')\n",
    "with tf.Session() as sess:\n",
    "    # Initializing the variables\n",
    "    sess.run(tf.global_variables_initializer())\n",
    "    \n",
    "    # Training cycle\n",
    "    for epoch in range(epochs):\n",
    "        # Loop over all batches\n",
    "        n_batches = 5\n",
    "        for batch_i in range(1, n_batches + 1):\n",
    "            for batch_features, batch_labels in helper.load_preprocess_training_batch(batch_i, batch_size):\n",
    "                train_neural_network(sess, optimizer, keep_probability, batch_features, batch_labels)\n",
    "            print('Epoch {:>2}, CIFAR-10 Batch {}:  '.format(epoch + 1, batch_i), end='')\n",
    "            print_stats(sess, batch_features, batch_labels, cost, accuracy)\n",
    "            \n",
    "    # Save Model\n",
    "    saver = tf.train.Saver()\n",
    "    save_path = saver.save(sess, save_model_path)"
   ]
  },
  {
   "cell_type": "markdown",
   "metadata": {
    "deletable": true,
    "editable": true
   },
   "source": [
    "# Checkpoint\n",
    "The model has been saved to disk.\n",
    "## Test Model\n",
    "Test your model against the test dataset.  This will be your final accuracy. You should have an accuracy greater than 50%. If you don't, keep tweaking the model architecture and parameters."
   ]
  },
  {
   "cell_type": "code",
   "execution_count": 61,
   "metadata": {
    "collapsed": false,
    "deletable": true,
    "editable": true
   },
   "outputs": [
    {
     "name": "stdout",
     "output_type": "stream",
     "text": [
      "Testing Accuracy: 0.6717543661594391\n",
      "\n"
     ]
    },
    {
     "data": {
      "image/png": "[encoded data removed]",
      "text/plain": [
       "<matplotlib.figure.Figure at 0x7f1f2b3afef0>"
      ]
     },
     "metadata": {
      "image/png": {
       "height": 319,
       "width": 355
      }
     },
     "output_type": "display_data"
    }
   ],
   "source": [
    "\"\"\"\n",
    "DON'T MODIFY ANYTHING IN THIS CELL\n",
    "\"\"\"\n",
    "%matplotlib inline\n",
    "%config InlineBackend.figure_format = 'retina'\n",
    "\n",
    "import tensorflow as tf\n",
    "import pickle\n",
    "import helper\n",
    "import random\n",
    "\n",
    "# Set batch size if not already set\n",
    "try:\n",
    "    if batch_size:\n",
    "        pass\n",
    "except NameError:\n",
    "    batch_size = 64\n",
    "\n",
    "save_model_path = './image_classification'\n",
    "n_samples = 4\n",
    "top_n_predictions = 3\n",
    "\n",
    "def test_model():\n",
    "    \"\"\"\n",
    "    Test the saved model against the test dataset\n",
    "    \"\"\"\n",
    "\n",
    "    test_features, test_labels = pickle.load(open('preprocess_training.p', mode='rb'))\n",
    "    loaded_graph = tf.Graph()\n",
    "\n",
    "    with tf.Session(graph=loaded_graph) as sess:\n",
    "        # Load model\n",
    "        loader = tf.train.import_meta_graph(save_model_path + '.meta')\n",
    "        loader.restore(sess, save_model_path)\n",
    "\n",
    "        # Get Tensors from loaded model\n",
    "        loaded_x = loaded_graph.get_tensor_by_name('x:0')\n",
    "        loaded_y = loaded_graph.get_tensor_by_name('y:0')\n",
    "        loaded_keep_prob = loaded_graph.get_tensor_by_name('keep_prob:0')\n",
    "        loaded_logits = loaded_graph.get_tensor_by_name('logits:0')\n",
    "        loaded_acc = loaded_graph.get_tensor_by_name('accuracy:0')\n",
    "        \n",
    "        # Get accuracy in batches for memory limitations\n",
    "        test_batch_acc_total = 0\n",
    "        test_batch_count = 0\n",
    "        \n",
    "        for train_feature_batch, train_label_batch in helper.batch_features_labels(test_features, test_labels, batch_size):\n",
    "            test_batch_acc_total += sess.run(\n",
    "                loaded_acc,\n",
    "                feed_dict={loaded_x: train_feature_batch, loaded_y: train_label_batch, loaded_keep_prob: 1.0})\n",
    "            test_batch_count += 1\n",
    "\n",
    "        print('Testing Accuracy: {}\\n'.format(test_batch_acc_total/test_batch_count))\n",
    "\n",
    "        # Print Random Samples\n",
    "        random_test_features, random_test_labels = tuple(zip(*random.sample(list(zip(test_features, test_labels)), n_samples)))\n",
    "        random_test_predictions = sess.run(\n",
    "            tf.nn.top_k(tf.nn.softmax(loaded_logits), top_n_predictions),\n",
    "            feed_dict={loaded_x: random_test_features, loaded_y: random_test_labels, loaded_keep_prob: 1.0})\n",
    "        helper.display_image_predictions(random_test_features, random_test_labels, random_test_predictions)\n",
    "\n",
    "\n",
    "test_model()"
   ]
  },
  {
   "cell_type": "markdown",
   "metadata": {
    "deletable": true,
    "editable": true
   },
   "source": [
    "## Why 50-70% Accuracy?\n",
    "You might be wondering why you can't get an accuracy any higher. First things first, 50% isn't bad for a simple CNN.  Pure guessing would get you 10% accuracy. However, you might notice people are getting scores [well above 70%](http://rodrigob.github.io/are_we_there_yet/build/classification_datasets_results.html#43494641522d3130).  That's because we haven't taught you all there is to know about neural networks. We still need to cover a few more techniques.\n",
    "## Submitting This Project\n",
    "When submitting this project, make sure to run all the cells before saving the notebook.  Save the notebook file as \"dlnd_image_classification.ipynb\" and save it as a HTML file under \"File\" -> \"Download as\".  Include the \"helper.py\" and \"problem_unittests.py\" files in your submission."
   ]
  }
 ],
 "metadata": {
  "kernelspec": {
   "display_name": "Python 3",
   "language": "python",
   "name": "python3"
  },
  "language_info": {
   "codemirror_mode": {
    "name": "ipython",
    "version": 3
   },
   "file_extension": ".py",
   "mimetype": "text/x-python",
   "name": "python",
   "nbconvert_exporter": "python",
   "pygments_lexer": "ipython3",
   "version": "3.5.2"
  },
  "widgets": {
   "state": {},
   "version": "1.1.2"
  }
 },
 "nbformat": 4,
 "nbformat_minor": 0
}
